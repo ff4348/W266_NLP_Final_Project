{
 "cells": [
  {
   "cell_type": "code",
   "execution_count": 1,
   "metadata": {
    "colab": {
     "base_uri": "https://localhost:8080/"
    },
    "id": "90ZyclLSjDZB",
    "outputId": "3b5eca9f-c654-4632-d50a-05ec203f2ab5"
   },
   "outputs": [
    {
     "name": "stdout",
     "output_type": "stream",
     "text": [
      "\u001b[2K     \u001b[90m━━━━━━━━━━━━━━━━━━━━━━━━━━━━━━━━━━━━━━━━\u001b[0m \u001b[32m23.4/23.4 MB\u001b[0m \u001b[31m60.6 MB/s\u001b[0m eta \u001b[36m0:00:00\u001b[0m\n",
      "\u001b[?25h  Preparing metadata (setup.py) ... \u001b[?25l\u001b[?25hdone\n",
      "  Building wheel for gensim (setup.py) ... \u001b[?25l\u001b[?25hdone\n",
      "\u001b[2K     \u001b[90m━━━━━━━━━━━━━━━━━━━━━━━━━━━━━━━━━━━━━━━━\u001b[0m \u001b[32m4.9/4.9 MB\u001b[0m \u001b[31m43.9 MB/s\u001b[0m eta \u001b[36m0:00:00\u001b[0m\n",
      "\u001b[2K     \u001b[90m━━━━━━━━━━━━━━━━━━━━━━━━━━━━━━━━━━━━━━━\u001b[0m \u001b[32m498.1/498.1 MB\u001b[0m \u001b[31m3.0 MB/s\u001b[0m eta \u001b[36m0:00:00\u001b[0m\n",
      "\u001b[2K     \u001b[90m━━━━━━━━━━━━━━━━━━━━━━━━━━━━━━━━━━━━━━━━\u001b[0m \u001b[32m5.8/5.8 MB\u001b[0m \u001b[31m79.4 MB/s\u001b[0m eta \u001b[36m0:00:00\u001b[0m\n",
      "\u001b[2K     \u001b[90m━━━━━━━━━━━━━━━━━━━━━━━━━━━━━━━━━━━━━━\u001b[0m \u001b[32m462.3/462.3 kB\u001b[0m \u001b[31m40.8 MB/s\u001b[0m eta \u001b[36m0:00:00\u001b[0m\n",
      "\u001b[2K     \u001b[90m━━━━━━━━━━━━━━━━━━━━━━━━━━━━━━━━━━━━━━━━\u001b[0m \u001b[32m1.1/1.1 MB\u001b[0m \u001b[31m62.0 MB/s\u001b[0m eta \u001b[36m0:00:00\u001b[0m\n",
      "\u001b[2K     \u001b[90m━━━━━━━━━━━━━━━━━━━━━━━━━━━━━━━━━━━━━━━━\u001b[0m \u001b[32m1.4/1.4 MB\u001b[0m \u001b[31m63.6 MB/s\u001b[0m eta \u001b[36m0:00:00\u001b[0m\n",
      "\u001b[2K     \u001b[90m━━━━━━━━━━━━━━━━━━━━━━━━━━━━━━━━━━━━━━━━\u001b[0m \u001b[32m42.6/42.6 kB\u001b[0m \u001b[31m4.8 MB/s\u001b[0m eta \u001b[36m0:00:00\u001b[0m\n",
      "\u001b[2K     \u001b[90m━━━━━━━━━━━━━━━━━━━━━━━━━━━━━━━━━━━━━━━━\u001b[0m \u001b[32m4.9/4.9 MB\u001b[0m \u001b[31m94.8 MB/s\u001b[0m eta \u001b[36m0:00:00\u001b[0m\n",
      "\u001b[2K     \u001b[90m━━━━━━━━━━━━━━━━━━━━━━━━━━━━━━━━━━━━━━━━\u001b[0m \u001b[32m7.0/7.0 MB\u001b[0m \u001b[31m53.9 MB/s\u001b[0m eta \u001b[36m0:00:00\u001b[0m\n",
      "\u001b[2K     \u001b[90m━━━━━━━━━━━━━━━━━━━━━━━━━━━━━━━━━━━━━━\u001b[0m \u001b[32m200.1/200.1 kB\u001b[0m \u001b[31m21.2 MB/s\u001b[0m eta \u001b[36m0:00:00\u001b[0m\n",
      "\u001b[2K     \u001b[90m━━━━━━━━━━━━━━━━━━━━━━━━━━━━━━━━━━━━━━━━\u001b[0m \u001b[32m7.8/7.8 MB\u001b[0m \u001b[31m90.4 MB/s\u001b[0m eta \u001b[36m0:00:00\u001b[0m\n",
      "\u001b[2K     \u001b[90m━━━━━━━━━━━━━━━━━━━━━━━━━━━━━━━━━━━━━━━━\u001b[0m \u001b[32m1.3/1.3 MB\u001b[0m \u001b[31m18.1 MB/s\u001b[0m eta \u001b[36m0:00:00\u001b[0m\n",
      "\u001b[?25h"
     ]
    }
   ],
   "source": [
    "# Installing \n",
    "!pip install pydot --quiet\n",
    "!pip install gensim==3.8.3 --quiet\n",
    "!pip install tensorflow-datasets --quiet\n",
    "!pip install -U tensorflow-text==2.8.2 --quiet\n",
    "!pip install transformers --quiet\n",
    "!pip install -q sentencepiece"
   ]
  },
  {
   "cell_type": "code",
   "execution_count": 2,
   "metadata": {
    "id": "p4nbdNN-Wc51"
   },
   "outputs": [],
   "source": [
    "import numpy as np\n",
    "import tensorflow as tf\n",
    "from tensorflow import keras\n",
    "\n",
    "from tensorflow.keras.layers import Embedding, Input, Dense, Lambda\n",
    "from tensorflow.keras.models import Model\n",
    "import tensorflow.keras.backend as K\n",
    "import tensorflow_datasets as tfds\n",
    "import tensorflow_text as tf_text\n",
    "\n",
    "\n",
    "from transformers import T5Tokenizer, TFT5Model, TFT5ForConditionalGeneration, TFT5EncoderModel\n",
    "\n",
    "import sklearn as sk\n",
    "import os\n",
    "import nltk\n",
    "from nltk.data import find\n",
    "\n",
    "import matplotlib.pyplot as plt\n",
    "import transformers\n",
    "\n",
    "import re\n",
    "\n",
    "#This continues to work with gensim 3.8.3.  It doesn't yet work with 4.x.  \n",
    "#Make sure your pip install command specifies gensim==3.8.3\n",
    "import gensim"
   ]
  },
  {
   "cell_type": "code",
   "execution_count": 3,
   "metadata": {
    "colab": {
     "base_uri": "https://localhost:8080/"
    },
    "id": "FpvUOuC3j27n",
    "outputId": "53dd53f9-60ac-4e98-e60b-8f0a8117b0a2"
   },
   "outputs": [
    {
     "name": "stdout",
     "output_type": "stream",
     "text": [
      "Running on TPU  ['10.2.152.26:8470']\n"
     ]
    }
   ],
   "source": [
    "try:\n",
    "  tpu = tf.distribute.cluster_resolver.TPUClusterResolver()  # TPU detection\n",
    "  print('Running on TPU ', tpu.cluster_spec().as_dict()['worker'])\n",
    "except ValueError:\n",
    "  raise BaseException('ERROR: Not connected to a TPU runtime; please see the previous cell in this notebook for instructions!')\n",
    "\n",
    "tf.config.experimental_connect_to_cluster(tpu)\n",
    "tf.tpu.experimental.initialize_tpu_system(tpu)\n",
    "tpu_strategy = tf.distribute.TPUStrategy(tpu)"
   ]
  },
  {
   "cell_type": "code",
   "execution_count": 4,
   "metadata": {
    "id": "inh6Zz8vWqy8"
   },
   "outputs": [],
   "source": [
    "#@title Plotting Function\n",
    "\n",
    "# 2-window plot. Small modification from matplotlib examples.\n",
    "\n",
    "def make_plot(axs,\n",
    "              model_history,  \n",
    "              ):\n",
    "    box = dict(facecolor='yellow', pad=5, alpha=0.2)\n",
    "\n",
    "    for i, metric in enumerate(['loss', 'accuracy']):\n",
    "        y_lim_lower = np.min(model_history.history[metric]) * 0.9\n",
    "\n",
    "        y_lim_upper = np.max(model_history.history[metric]) * 1.1\n",
    "\n",
    "        ax1 = axs[i]\n",
    "        ax1.plot(model_history.history[metric])\n",
    "        ax1.plot(model_history.history['val_%s' % metric])\n",
    "        ax1.set_ylabel(metric, bbox=box)\n",
    "        ax1.set_ylim(y_lim_lower, y_lim_upper)"
   ]
  },
  {
   "cell_type": "code",
   "execution_count": 5,
   "metadata": {
    "colab": {
     "base_uri": "https://localhost:8080/",
     "height": 74
    },
    "id": "zwMkcXWUvq_f",
    "outputId": "8c5e1b19-6121-4f4f-dbd0-9d512ccb8444"
   },
   "outputs": [
    {
     "data": {
      "text/html": [
       "\n",
       "     <input type=\"file\" id=\"files-5c3b50a2-082c-4e78-abb6-eb99593f1e82\" name=\"files[]\" multiple disabled\n",
       "        style=\"border:none\" />\n",
       "     <output id=\"result-5c3b50a2-082c-4e78-abb6-eb99593f1e82\">\n",
       "      Upload widget is only available when the cell has been executed in the\n",
       "      current browser session. Please rerun this cell to enable.\n",
       "      </output>\n",
       "      <script>// Copyright 2017 Google LLC\n",
       "//\n",
       "// Licensed under the Apache License, Version 2.0 (the \"License\");\n",
       "// you may not use this file except in compliance with the License.\n",
       "// You may obtain a copy of the License at\n",
       "//\n",
       "//      http://www.apache.org/licenses/LICENSE-2.0\n",
       "//\n",
       "// Unless required by applicable law or agreed to in writing, software\n",
       "// distributed under the License is distributed on an \"AS IS\" BASIS,\n",
       "// WITHOUT WARRANTIES OR CONDITIONS OF ANY KIND, either express or implied.\n",
       "// See the License for the specific language governing permissions and\n",
       "// limitations under the License.\n",
       "\n",
       "/**\n",
       " * @fileoverview Helpers for google.colab Python module.\n",
       " */\n",
       "(function(scope) {\n",
       "function span(text, styleAttributes = {}) {\n",
       "  const element = document.createElement('span');\n",
       "  element.textContent = text;\n",
       "  for (const key of Object.keys(styleAttributes)) {\n",
       "    element.style[key] = styleAttributes[key];\n",
       "  }\n",
       "  return element;\n",
       "}\n",
       "\n",
       "// Max number of bytes which will be uploaded at a time.\n",
       "const MAX_PAYLOAD_SIZE = 100 * 1024;\n",
       "\n",
       "function _uploadFiles(inputId, outputId) {\n",
       "  const steps = uploadFilesStep(inputId, outputId);\n",
       "  const outputElement = document.getElementById(outputId);\n",
       "  // Cache steps on the outputElement to make it available for the next call\n",
       "  // to uploadFilesContinue from Python.\n",
       "  outputElement.steps = steps;\n",
       "\n",
       "  return _uploadFilesContinue(outputId);\n",
       "}\n",
       "\n",
       "// This is roughly an async generator (not supported in the browser yet),\n",
       "// where there are multiple asynchronous steps and the Python side is going\n",
       "// to poll for completion of each step.\n",
       "// This uses a Promise to block the python side on completion of each step,\n",
       "// then passes the result of the previous step as the input to the next step.\n",
       "function _uploadFilesContinue(outputId) {\n",
       "  const outputElement = document.getElementById(outputId);\n",
       "  const steps = outputElement.steps;\n",
       "\n",
       "  const next = steps.next(outputElement.lastPromiseValue);\n",
       "  return Promise.resolve(next.value.promise).then((value) => {\n",
       "    // Cache the last promise value to make it available to the next\n",
       "    // step of the generator.\n",
       "    outputElement.lastPromiseValue = value;\n",
       "    return next.value.response;\n",
       "  });\n",
       "}\n",
       "\n",
       "/**\n",
       " * Generator function which is called between each async step of the upload\n",
       " * process.\n",
       " * @param {string} inputId Element ID of the input file picker element.\n",
       " * @param {string} outputId Element ID of the output display.\n",
       " * @return {!Iterable<!Object>} Iterable of next steps.\n",
       " */\n",
       "function* uploadFilesStep(inputId, outputId) {\n",
       "  const inputElement = document.getElementById(inputId);\n",
       "  inputElement.disabled = false;\n",
       "\n",
       "  const outputElement = document.getElementById(outputId);\n",
       "  outputElement.innerHTML = '';\n",
       "\n",
       "  const pickedPromise = new Promise((resolve) => {\n",
       "    inputElement.addEventListener('change', (e) => {\n",
       "      resolve(e.target.files);\n",
       "    });\n",
       "  });\n",
       "\n",
       "  const cancel = document.createElement('button');\n",
       "  inputElement.parentElement.appendChild(cancel);\n",
       "  cancel.textContent = 'Cancel upload';\n",
       "  const cancelPromise = new Promise((resolve) => {\n",
       "    cancel.onclick = () => {\n",
       "      resolve(null);\n",
       "    };\n",
       "  });\n",
       "\n",
       "  // Wait for the user to pick the files.\n",
       "  const files = yield {\n",
       "    promise: Promise.race([pickedPromise, cancelPromise]),\n",
       "    response: {\n",
       "      action: 'starting',\n",
       "    }\n",
       "  };\n",
       "\n",
       "  cancel.remove();\n",
       "\n",
       "  // Disable the input element since further picks are not allowed.\n",
       "  inputElement.disabled = true;\n",
       "\n",
       "  if (!files) {\n",
       "    return {\n",
       "      response: {\n",
       "        action: 'complete',\n",
       "      }\n",
       "    };\n",
       "  }\n",
       "\n",
       "  for (const file of files) {\n",
       "    const li = document.createElement('li');\n",
       "    li.append(span(file.name, {fontWeight: 'bold'}));\n",
       "    li.append(span(\n",
       "        `(${file.type || 'n/a'}) - ${file.size} bytes, ` +\n",
       "        `last modified: ${\n",
       "            file.lastModifiedDate ? file.lastModifiedDate.toLocaleDateString() :\n",
       "                                    'n/a'} - `));\n",
       "    const percent = span('0% done');\n",
       "    li.appendChild(percent);\n",
       "\n",
       "    outputElement.appendChild(li);\n",
       "\n",
       "    const fileDataPromise = new Promise((resolve) => {\n",
       "      const reader = new FileReader();\n",
       "      reader.onload = (e) => {\n",
       "        resolve(e.target.result);\n",
       "      };\n",
       "      reader.readAsArrayBuffer(file);\n",
       "    });\n",
       "    // Wait for the data to be ready.\n",
       "    let fileData = yield {\n",
       "      promise: fileDataPromise,\n",
       "      response: {\n",
       "        action: 'continue',\n",
       "      }\n",
       "    };\n",
       "\n",
       "    // Use a chunked sending to avoid message size limits. See b/62115660.\n",
       "    let position = 0;\n",
       "    do {\n",
       "      const length = Math.min(fileData.byteLength - position, MAX_PAYLOAD_SIZE);\n",
       "      const chunk = new Uint8Array(fileData, position, length);\n",
       "      position += length;\n",
       "\n",
       "      const base64 = btoa(String.fromCharCode.apply(null, chunk));\n",
       "      yield {\n",
       "        response: {\n",
       "          action: 'append',\n",
       "          file: file.name,\n",
       "          data: base64,\n",
       "        },\n",
       "      };\n",
       "\n",
       "      let percentDone = fileData.byteLength === 0 ?\n",
       "          100 :\n",
       "          Math.round((position / fileData.byteLength) * 100);\n",
       "      percent.textContent = `${percentDone}% done`;\n",
       "\n",
       "    } while (position < fileData.byteLength);\n",
       "  }\n",
       "\n",
       "  // All done.\n",
       "  yield {\n",
       "    response: {\n",
       "      action: 'complete',\n",
       "    }\n",
       "  };\n",
       "}\n",
       "\n",
       "scope.google = scope.google || {};\n",
       "scope.google.colab = scope.google.colab || {};\n",
       "scope.google.colab._files = {\n",
       "  _uploadFiles,\n",
       "  _uploadFilesContinue,\n",
       "};\n",
       "})(self);\n",
       "</script> "
      ],
      "text/plain": [
       "<IPython.core.display.HTML object>"
      ]
     },
     "metadata": {},
     "output_type": "display_data"
    },
    {
     "name": "stdout",
     "output_type": "stream",
     "text": [
      "Saving final_liar_features.csv to final_liar_features.csv\n"
     ]
    }
   ],
   "source": [
    "import pandas as pd\n",
    "# Load the LIAR-PLUS dataset\n",
    "from google.colab import files\n",
    "uploaded = files.upload()\n"
   ]
  },
  {
   "cell_type": "code",
   "execution_count": 6,
   "metadata": {
    "id": "GPS9bxdHwCUa"
   },
   "outputs": [],
   "source": [
    "import io\n",
    "liar_plus_dataset = pd.read_csv(io.BytesIO(uploaded['final_liar_features.csv']))\n",
    "# Dataset is now stored in a Pandas Datafram"
   ]
  },
  {
   "cell_type": "code",
   "execution_count": 7,
   "metadata": {
    "colab": {
     "base_uri": "https://localhost:8080/"
    },
    "id": "N2JaQUMalsEq",
    "outputId": "2c741820-d64f-4e12-bd15-859b82378e96"
   },
   "outputs": [
    {
     "data": {
      "text/plain": [
       "array(['false', 'half true', 'mostly true', 'true', 'barely true',\n",
       "       'pants fire'], dtype=object)"
      ]
     },
     "execution_count": 7,
     "metadata": {},
     "output_type": "execute_result"
    }
   ],
   "source": [
    "# Remove punctuation (so as not to confuse t5) and check unique labels\n",
    "liar_plus_dataset['label'] = liar_plus_dataset['label'].apply(lambda x: x.replace('-', ' '))\n",
    "liar_plus_dataset['label'].unique()"
   ]
  },
  {
   "cell_type": "code",
   "execution_count": 8,
   "metadata": {
    "colab": {
     "base_uri": "https://localhost:8080/"
    },
    "id": "szp22E5aiAkj",
    "outputId": "77a97612-f58e-4bdc-a885-f0a69b5316ff"
   },
   "outputs": [
    {
     "data": {
      "text/plain": [
       "array([1, 3, 4, 5, 2, 0])"
      ]
     },
     "execution_count": 8,
     "metadata": {},
     "output_type": "execute_result"
    }
   ],
   "source": [
    "liar_plus_dataset['label_num'].unique()"
   ]
  },
  {
   "cell_type": "code",
   "execution_count": 9,
   "metadata": {
    "colab": {
     "base_uri": "https://localhost:8080/"
    },
    "id": "BzYIiaJtaI2_",
    "outputId": "64515acf-65de-4387-d3a7-b95d385656da"
   },
   "outputs": [
    {
     "data": {
      "text/plain": [
       "label_num  label      \n",
       "0          pants fire     1050\n",
       "1          false          2511\n",
       "2          barely true    2108\n",
       "3          half true      2638\n",
       "4          mostly true    2466\n",
       "5          true           2063\n",
       "dtype: int64"
      ]
     },
     "execution_count": 9,
     "metadata": {},
     "output_type": "execute_result"
    }
   ],
   "source": [
    "# Confirm that the label nums are assigned correctly and check the distribution\n",
    "liar_plus_dataset.groupby(['label_num', 'label']).size()"
   ]
  },
  {
   "cell_type": "code",
   "execution_count": 10,
   "metadata": {
    "colab": {
     "base_uri": "https://localhost:8080/"
    },
    "id": "VJZv3PZHabj0",
    "outputId": "3960f2ee-4296-46f0-e928-30c893141d6c"
   },
   "outputs": [
    {
     "data": {
      "text/plain": [
       "binary_label  label      \n",
       "false         barely true    2108\n",
       "              false          2511\n",
       "              pants fire     1050\n",
       "true          half true      2638\n",
       "              mostly true    2466\n",
       "              true           2063\n",
       "dtype: int64"
      ]
     },
     "execution_count": 10,
     "metadata": {},
     "output_type": "execute_result"
    }
   ],
   "source": [
    "# Create a binary label (should be text for t5) and confirm this was done correctly\n",
    "liar_plus_dataset['binary_label'] = np.where(liar_plus_dataset['binary_label_num'] == 1, 'false', 'true')\n",
    "liar_plus_dataset.groupby(['binary_label', 'label']).size()"
   ]
  },
  {
   "cell_type": "code",
   "execution_count": 11,
   "metadata": {
    "id": "8BwaHuh8napm"
   },
   "outputs": [],
   "source": [
    "from sklearn.model_selection import train_test_split\n",
    "\n",
    "# Load the LIAR Plus dataset from a CSV file\n",
    "df = liar_plus_dataset"
   ]
  },
  {
   "cell_type": "code",
   "execution_count": 12,
   "metadata": {
    "colab": {
     "base_uri": "https://localhost:8080/"
    },
    "id": "pWpJLjHOY9EO",
    "outputId": "3b245e26-9e67-486e-91cf-e2ab43dd4bf6"
   },
   "outputs": [
    {
     "data": {
      "text/plain": [
       "label_num  label      \n",
       "1          false          2511\n",
       "2          barely true    2108\n",
       "3          half true      2638\n",
       "4          mostly true    2466\n",
       "5          true           2063\n",
       "6          pants fire     1050\n",
       "dtype: int64"
      ]
     },
     "execution_count": 12,
     "metadata": {},
     "output_type": "execute_result"
    }
   ],
   "source": [
    "# convert the label to string for T5 - need them to be uniform lengths as a string\n",
    "df['label_num'] = df['label_num'].astype(str)\n",
    "# Using 0 as a string gives a length of 3, we need all labels to have uniform length (padding with - 0s causes odd training behavior)\n",
    "## Change the label 0 to a label of 6\n",
    "df['label_num'] = df['label_num'].replace({'0':'6'})\n",
    "# Check the assignment looks ok\n",
    "df.groupby(['label_num', 'label']).size()\n",
    "# Good - pants on fire is now assigned to 6"
   ]
  },
  {
   "cell_type": "markdown",
   "metadata": {
    "id": "LRKGrPAuW4j7"
   },
   "source": [
    "Data Preparation"
   ]
  },
  {
   "cell_type": "code",
   "execution_count": 13,
   "metadata": {
    "colab": {
     "base_uri": "https://localhost:8080/",
     "height": 1000
    },
    "id": "XZ-oLRlnly3P",
    "outputId": "e5bdb44b-a65c-4e25-aa98-05c8693c3663"
   },
   "outputs": [
    {
     "data": {
      "text/html": [
       "\n",
       "  <div id=\"df-788ff42c-c697-41bd-b02a-595b5fd7413c\">\n",
       "    <div class=\"colab-df-container\">\n",
       "      <div>\n",
       "<style scoped>\n",
       "    .dataframe tbody tr th:only-of-type {\n",
       "        vertical-align: middle;\n",
       "    }\n",
       "\n",
       "    .dataframe tbody tr th {\n",
       "        vertical-align: top;\n",
       "    }\n",
       "\n",
       "    .dataframe thead th {\n",
       "        text-align: right;\n",
       "    }\n",
       "</style>\n",
       "<table border=\"1\" class=\"dataframe\">\n",
       "  <thead>\n",
       "    <tr style=\"text-align: right;\">\n",
       "      <th></th>\n",
       "      <th>id</th>\n",
       "      <th>label</th>\n",
       "      <th>label_num</th>\n",
       "      <th>binary_label_num</th>\n",
       "      <th>ternary_label_num</th>\n",
       "      <th>claim</th>\n",
       "      <th>combined_text</th>\n",
       "      <th>fear</th>\n",
       "      <th>anger</th>\n",
       "      <th>anticipation</th>\n",
       "      <th>...</th>\n",
       "      <th>AllPunc</th>\n",
       "      <th>Period</th>\n",
       "      <th>Comma</th>\n",
       "      <th>QMark</th>\n",
       "      <th>Exclam</th>\n",
       "      <th>Apostro</th>\n",
       "      <th>OtherP</th>\n",
       "      <th>Emoji</th>\n",
       "      <th>combined_pos</th>\n",
       "      <th>binary_label</th>\n",
       "    </tr>\n",
       "  </thead>\n",
       "  <tbody>\n",
       "    <tr>\n",
       "      <th>0</th>\n",
       "      <td>0</td>\n",
       "      <td>false</td>\n",
       "      <td>1</td>\n",
       "      <td>1</td>\n",
       "      <td>2</td>\n",
       "      <td>truthfulness: Says the Annies List political g...</td>\n",
       "      <td>truthfulness: Says the Annies List political g...</td>\n",
       "      <td>0.166667</td>\n",
       "      <td>0.166667</td>\n",
       "      <td>0.000000</td>\n",
       "      <td>...</td>\n",
       "      <td>18.75</td>\n",
       "      <td>6.25</td>\n",
       "      <td>0.00</td>\n",
       "      <td>0.00</td>\n",
       "      <td>0.0</td>\n",
       "      <td>0.00</td>\n",
       "      <td>12.50</td>\n",
       "      <td>0</td>\n",
       "      <td>Says the Annies List political group supports ...</td>\n",
       "      <td>false</td>\n",
       "    </tr>\n",
       "    <tr>\n",
       "      <th>1</th>\n",
       "      <td>1</td>\n",
       "      <td>half true</td>\n",
       "      <td>3</td>\n",
       "      <td>0</td>\n",
       "      <td>1</td>\n",
       "      <td>truthfulness: When did the decline of coal sta...</td>\n",
       "      <td>truthfulness: When did the decline of coal sta...</td>\n",
       "      <td>0.000000</td>\n",
       "      <td>0.000000</td>\n",
       "      <td>0.250000</td>\n",
       "      <td>...</td>\n",
       "      <td>22.58</td>\n",
       "      <td>6.45</td>\n",
       "      <td>0.00</td>\n",
       "      <td>3.23</td>\n",
       "      <td>0.0</td>\n",
       "      <td>0.00</td>\n",
       "      <td>12.90</td>\n",
       "      <td>0</td>\n",
       "      <td>When did the decline of coal start? It started...</td>\n",
       "      <td>true</td>\n",
       "    </tr>\n",
       "    <tr>\n",
       "      <th>2</th>\n",
       "      <td>2</td>\n",
       "      <td>mostly true</td>\n",
       "      <td>4</td>\n",
       "      <td>0</td>\n",
       "      <td>0</td>\n",
       "      <td>truthfulness: \"Hillary Clinton agrees with Joh...</td>\n",
       "      <td>truthfulness: \"Hillary Clinton agrees with Joh...</td>\n",
       "      <td>0.200000</td>\n",
       "      <td>0.000000</td>\n",
       "      <td>0.000000</td>\n",
       "      <td>...</td>\n",
       "      <td>39.13</td>\n",
       "      <td>4.35</td>\n",
       "      <td>0.00</td>\n",
       "      <td>0.00</td>\n",
       "      <td>0.0</td>\n",
       "      <td>0.00</td>\n",
       "      <td>34.78</td>\n",
       "      <td>0</td>\n",
       "      <td>\"Hillary Clinton agrees with John McCain \"\"by ...</td>\n",
       "      <td>true</td>\n",
       "    </tr>\n",
       "    <tr>\n",
       "      <th>3</th>\n",
       "      <td>3</td>\n",
       "      <td>false</td>\n",
       "      <td>1</td>\n",
       "      <td>1</td>\n",
       "      <td>2</td>\n",
       "      <td>truthfulness: Health care reform legislation i...</td>\n",
       "      <td>truthfulness: Health care reform legislation i...</td>\n",
       "      <td>0.166667</td>\n",
       "      <td>0.000000</td>\n",
       "      <td>0.166667</td>\n",
       "      <td>...</td>\n",
       "      <td>21.43</td>\n",
       "      <td>7.14</td>\n",
       "      <td>0.00</td>\n",
       "      <td>0.00</td>\n",
       "      <td>0.0</td>\n",
       "      <td>0.00</td>\n",
       "      <td>14.29</td>\n",
       "      <td>0</td>\n",
       "      <td>Health care reform legislation is likely to ma...</td>\n",
       "      <td>false</td>\n",
       "    </tr>\n",
       "    <tr>\n",
       "      <th>4</th>\n",
       "      <td>4</td>\n",
       "      <td>half true</td>\n",
       "      <td>3</td>\n",
       "      <td>0</td>\n",
       "      <td>1</td>\n",
       "      <td>truthfulness: The economic turnaround started ...</td>\n",
       "      <td>truthfulness: The economic turnaround started ...</td>\n",
       "      <td>0.000000</td>\n",
       "      <td>0.000000</td>\n",
       "      <td>0.000000</td>\n",
       "      <td>...</td>\n",
       "      <td>14.29</td>\n",
       "      <td>7.14</td>\n",
       "      <td>0.00</td>\n",
       "      <td>0.00</td>\n",
       "      <td>0.0</td>\n",
       "      <td>0.00</td>\n",
       "      <td>7.14</td>\n",
       "      <td>0</td>\n",
       "      <td>The economic turnaround started at the end of ...</td>\n",
       "      <td>true</td>\n",
       "    </tr>\n",
       "    <tr>\n",
       "      <th>...</th>\n",
       "      <td>...</td>\n",
       "      <td>...</td>\n",
       "      <td>...</td>\n",
       "      <td>...</td>\n",
       "      <td>...</td>\n",
       "      <td>...</td>\n",
       "      <td>...</td>\n",
       "      <td>...</td>\n",
       "      <td>...</td>\n",
       "      <td>...</td>\n",
       "      <td>...</td>\n",
       "      <td>...</td>\n",
       "      <td>...</td>\n",
       "      <td>...</td>\n",
       "      <td>...</td>\n",
       "      <td>...</td>\n",
       "      <td>...</td>\n",
       "      <td>...</td>\n",
       "      <td>...</td>\n",
       "      <td>...</td>\n",
       "      <td>...</td>\n",
       "    </tr>\n",
       "    <tr>\n",
       "      <th>12831</th>\n",
       "      <td>1279</td>\n",
       "      <td>half true</td>\n",
       "      <td>3</td>\n",
       "      <td>0</td>\n",
       "      <td>1</td>\n",
       "      <td>truthfulness: For the first time in more than ...</td>\n",
       "      <td>truthfulness: For the first time in more than ...</td>\n",
       "      <td>0.000000</td>\n",
       "      <td>0.000000</td>\n",
       "      <td>0.500000</td>\n",
       "      <td>...</td>\n",
       "      <td>23.08</td>\n",
       "      <td>3.85</td>\n",
       "      <td>3.85</td>\n",
       "      <td>0.00</td>\n",
       "      <td>0.0</td>\n",
       "      <td>0.00</td>\n",
       "      <td>15.38</td>\n",
       "      <td>0</td>\n",
       "      <td>For the first time in more than a decade, impo...</td>\n",
       "      <td>true</td>\n",
       "    </tr>\n",
       "    <tr>\n",
       "      <th>12832</th>\n",
       "      <td>1280</td>\n",
       "      <td>mostly true</td>\n",
       "      <td>4</td>\n",
       "      <td>0</td>\n",
       "      <td>0</td>\n",
       "      <td>truthfulness: Says Donald Trump has bankrupted...</td>\n",
       "      <td>truthfulness: Says Donald Trump has bankrupted...</td>\n",
       "      <td>0.000000</td>\n",
       "      <td>0.000000</td>\n",
       "      <td>0.000000</td>\n",
       "      <td>...</td>\n",
       "      <td>20.00</td>\n",
       "      <td>5.00</td>\n",
       "      <td>5.00</td>\n",
       "      <td>0.00</td>\n",
       "      <td>0.0</td>\n",
       "      <td>0.00</td>\n",
       "      <td>10.00</td>\n",
       "      <td>0</td>\n",
       "      <td>Says Donald Trump has bankrupted his companies...</td>\n",
       "      <td>true</td>\n",
       "    </tr>\n",
       "    <tr>\n",
       "      <th>12833</th>\n",
       "      <td>1281</td>\n",
       "      <td>true</td>\n",
       "      <td>5</td>\n",
       "      <td>0</td>\n",
       "      <td>0</td>\n",
       "      <td>truthfulness: \"John McCain and George Bush hav...</td>\n",
       "      <td>truthfulness: \"John McCain and George Bush hav...</td>\n",
       "      <td>0.000000</td>\n",
       "      <td>0.000000</td>\n",
       "      <td>1.000000</td>\n",
       "      <td>...</td>\n",
       "      <td>72.22</td>\n",
       "      <td>16.67</td>\n",
       "      <td>5.56</td>\n",
       "      <td>0.00</td>\n",
       "      <td>0.0</td>\n",
       "      <td>0.00</td>\n",
       "      <td>50.00</td>\n",
       "      <td>0</td>\n",
       "      <td>\"John McCain and George Bush have \"\"absolutely...</td>\n",
       "      <td>true</td>\n",
       "    </tr>\n",
       "    <tr>\n",
       "      <th>12834</th>\n",
       "      <td>1282</td>\n",
       "      <td>false</td>\n",
       "      <td>1</td>\n",
       "      <td>1</td>\n",
       "      <td>2</td>\n",
       "      <td>truthfulness: A new poll shows 62 percent supp...</td>\n",
       "      <td>truthfulness: A new poll shows 62 percent supp...</td>\n",
       "      <td>0.000000</td>\n",
       "      <td>0.000000</td>\n",
       "      <td>0.375000</td>\n",
       "      <td>...</td>\n",
       "      <td>26.47</td>\n",
       "      <td>14.71</td>\n",
       "      <td>0.00</td>\n",
       "      <td>0.00</td>\n",
       "      <td>0.0</td>\n",
       "      <td>2.94</td>\n",
       "      <td>8.82</td>\n",
       "      <td>0</td>\n",
       "      <td>A new poll shows 62 percent support the presid...</td>\n",
       "      <td>false</td>\n",
       "    </tr>\n",
       "    <tr>\n",
       "      <th>12835</th>\n",
       "      <td>1283</td>\n",
       "      <td>barely true</td>\n",
       "      <td>2</td>\n",
       "      <td>1</td>\n",
       "      <td>1</td>\n",
       "      <td>truthfulness: No one claims the report vindica...</td>\n",
       "      <td>truthfulness: No one claims the report vindica...</td>\n",
       "      <td>0.500000</td>\n",
       "      <td>0.000000</td>\n",
       "      <td>0.000000</td>\n",
       "      <td>...</td>\n",
       "      <td>17.39</td>\n",
       "      <td>8.70</td>\n",
       "      <td>0.00</td>\n",
       "      <td>0.00</td>\n",
       "      <td>0.0</td>\n",
       "      <td>0.00</td>\n",
       "      <td>8.70</td>\n",
       "      <td>0</td>\n",
       "      <td>No one claims the report vindicating New Jerse...</td>\n",
       "      <td>false</td>\n",
       "    </tr>\n",
       "  </tbody>\n",
       "</table>\n",
       "<p>12836 rows × 138 columns</p>\n",
       "</div>\n",
       "      <button class=\"colab-df-convert\" onclick=\"convertToInteractive('df-788ff42c-c697-41bd-b02a-595b5fd7413c')\"\n",
       "              title=\"Convert this dataframe to an interactive table.\"\n",
       "              style=\"display:none;\">\n",
       "        \n",
       "  <svg xmlns=\"http://www.w3.org/2000/svg\" height=\"24px\"viewBox=\"0 0 24 24\"\n",
       "       width=\"24px\">\n",
       "    <path d=\"M0 0h24v24H0V0z\" fill=\"none\"/>\n",
       "    <path d=\"M18.56 5.44l.94 2.06.94-2.06 2.06-.94-2.06-.94-.94-2.06-.94 2.06-2.06.94zm-11 1L8.5 8.5l.94-2.06 2.06-.94-2.06-.94L8.5 2.5l-.94 2.06-2.06.94zm10 10l.94 2.06.94-2.06 2.06-.94-2.06-.94-.94-2.06-.94 2.06-2.06.94z\"/><path d=\"M17.41 7.96l-1.37-1.37c-.4-.4-.92-.59-1.43-.59-.52 0-1.04.2-1.43.59L10.3 9.45l-7.72 7.72c-.78.78-.78 2.05 0 2.83L4 21.41c.39.39.9.59 1.41.59.51 0 1.02-.2 1.41-.59l7.78-7.78 2.81-2.81c.8-.78.8-2.07 0-2.86zM5.41 20L4 18.59l7.72-7.72 1.47 1.35L5.41 20z\"/>\n",
       "  </svg>\n",
       "      </button>\n",
       "      \n",
       "  <style>\n",
       "    .colab-df-container {\n",
       "      display:flex;\n",
       "      flex-wrap:wrap;\n",
       "      gap: 12px;\n",
       "    }\n",
       "\n",
       "    .colab-df-convert {\n",
       "      background-color: #E8F0FE;\n",
       "      border: none;\n",
       "      border-radius: 50%;\n",
       "      cursor: pointer;\n",
       "      display: none;\n",
       "      fill: #1967D2;\n",
       "      height: 32px;\n",
       "      padding: 0 0 0 0;\n",
       "      width: 32px;\n",
       "    }\n",
       "\n",
       "    .colab-df-convert:hover {\n",
       "      background-color: #E2EBFA;\n",
       "      box-shadow: 0px 1px 2px rgba(60, 64, 67, 0.3), 0px 1px 3px 1px rgba(60, 64, 67, 0.15);\n",
       "      fill: #174EA6;\n",
       "    }\n",
       "\n",
       "    [theme=dark] .colab-df-convert {\n",
       "      background-color: #3B4455;\n",
       "      fill: #D2E3FC;\n",
       "    }\n",
       "\n",
       "    [theme=dark] .colab-df-convert:hover {\n",
       "      background-color: #434B5C;\n",
       "      box-shadow: 0px 1px 3px 1px rgba(0, 0, 0, 0.15);\n",
       "      filter: drop-shadow(0px 1px 2px rgba(0, 0, 0, 0.3));\n",
       "      fill: #FFFFFF;\n",
       "    }\n",
       "  </style>\n",
       "\n",
       "      <script>\n",
       "        const buttonEl =\n",
       "          document.querySelector('#df-788ff42c-c697-41bd-b02a-595b5fd7413c button.colab-df-convert');\n",
       "        buttonEl.style.display =\n",
       "          google.colab.kernel.accessAllowed ? 'block' : 'none';\n",
       "\n",
       "        async function convertToInteractive(key) {\n",
       "          const element = document.querySelector('#df-788ff42c-c697-41bd-b02a-595b5fd7413c');\n",
       "          const dataTable =\n",
       "            await google.colab.kernel.invokeFunction('convertToInteractive',\n",
       "                                                     [key], {});\n",
       "          if (!dataTable) return;\n",
       "\n",
       "          const docLinkHtml = 'Like what you see? Visit the ' +\n",
       "            '<a target=\"_blank\" href=https://colab.research.google.com/notebooks/data_table.ipynb>data table notebook</a>'\n",
       "            + ' to learn more about interactive tables.';\n",
       "          element.innerHTML = '';\n",
       "          dataTable['output_type'] = 'display_data';\n",
       "          await google.colab.output.renderOutput(dataTable, element);\n",
       "          const docLink = document.createElement('div');\n",
       "          docLink.innerHTML = docLinkHtml;\n",
       "          element.appendChild(docLink);\n",
       "        }\n",
       "      </script>\n",
       "    </div>\n",
       "  </div>\n",
       "  "
      ],
      "text/plain": [
       "         id        label label_num  binary_label_num  ternary_label_num  \\\n",
       "0         0        false         1                 1                  2   \n",
       "1         1    half true         3                 0                  1   \n",
       "2         2  mostly true         4                 0                  0   \n",
       "3         3        false         1                 1                  2   \n",
       "4         4    half true         3                 0                  1   \n",
       "...     ...          ...       ...               ...                ...   \n",
       "12831  1279    half true         3                 0                  1   \n",
       "12832  1280  mostly true         4                 0                  0   \n",
       "12833  1281         true         5                 0                  0   \n",
       "12834  1282        false         1                 1                  2   \n",
       "12835  1283  barely true         2                 1                  1   \n",
       "\n",
       "                                                   claim  \\\n",
       "0      truthfulness: Says the Annies List political g...   \n",
       "1      truthfulness: When did the decline of coal sta...   \n",
       "2      truthfulness: \"Hillary Clinton agrees with Joh...   \n",
       "3      truthfulness: Health care reform legislation i...   \n",
       "4      truthfulness: The economic turnaround started ...   \n",
       "...                                                  ...   \n",
       "12831  truthfulness: For the first time in more than ...   \n",
       "12832  truthfulness: Says Donald Trump has bankrupted...   \n",
       "12833  truthfulness: \"John McCain and George Bush hav...   \n",
       "12834  truthfulness: A new poll shows 62 percent supp...   \n",
       "12835  truthfulness: No one claims the report vindica...   \n",
       "\n",
       "                                           combined_text      fear     anger  \\\n",
       "0      truthfulness: Says the Annies List political g...  0.166667  0.166667   \n",
       "1      truthfulness: When did the decline of coal sta...  0.000000  0.000000   \n",
       "2      truthfulness: \"Hillary Clinton agrees with Joh...  0.200000  0.000000   \n",
       "3      truthfulness: Health care reform legislation i...  0.166667  0.000000   \n",
       "4      truthfulness: The economic turnaround started ...  0.000000  0.000000   \n",
       "...                                                  ...       ...       ...   \n",
       "12831  truthfulness: For the first time in more than ...  0.000000  0.000000   \n",
       "12832  truthfulness: Says Donald Trump has bankrupted...  0.000000  0.000000   \n",
       "12833  truthfulness: \"John McCain and George Bush hav...  0.000000  0.000000   \n",
       "12834  truthfulness: A new poll shows 62 percent supp...  0.000000  0.000000   \n",
       "12835  truthfulness: No one claims the report vindica...  0.500000  0.000000   \n",
       "\n",
       "       anticipation  ...  AllPunc  Period  Comma  QMark  Exclam  Apostro  \\\n",
       "0          0.000000  ...    18.75    6.25   0.00   0.00     0.0     0.00   \n",
       "1          0.250000  ...    22.58    6.45   0.00   3.23     0.0     0.00   \n",
       "2          0.000000  ...    39.13    4.35   0.00   0.00     0.0     0.00   \n",
       "3          0.166667  ...    21.43    7.14   0.00   0.00     0.0     0.00   \n",
       "4          0.000000  ...    14.29    7.14   0.00   0.00     0.0     0.00   \n",
       "...             ...  ...      ...     ...    ...    ...     ...      ...   \n",
       "12831      0.500000  ...    23.08    3.85   3.85   0.00     0.0     0.00   \n",
       "12832      0.000000  ...    20.00    5.00   5.00   0.00     0.0     0.00   \n",
       "12833      1.000000  ...    72.22   16.67   5.56   0.00     0.0     0.00   \n",
       "12834      0.375000  ...    26.47   14.71   0.00   0.00     0.0     2.94   \n",
       "12835      0.000000  ...    17.39    8.70   0.00   0.00     0.0     0.00   \n",
       "\n",
       "       OtherP  Emoji                                       combined_pos  \\\n",
       "0       12.50      0  Says the Annies List political group supports ...   \n",
       "1       12.90      0  When did the decline of coal start? It started...   \n",
       "2       34.78      0  \"Hillary Clinton agrees with John McCain \"\"by ...   \n",
       "3       14.29      0  Health care reform legislation is likely to ma...   \n",
       "4        7.14      0  The economic turnaround started at the end of ...   \n",
       "...       ...    ...                                                ...   \n",
       "12831   15.38      0  For the first time in more than a decade, impo...   \n",
       "12832   10.00      0  Says Donald Trump has bankrupted his companies...   \n",
       "12833   50.00      0  \"John McCain and George Bush have \"\"absolutely...   \n",
       "12834    8.82      0  A new poll shows 62 percent support the presid...   \n",
       "12835    8.70      0  No one claims the report vindicating New Jerse...   \n",
       "\n",
       "       binary_label  \n",
       "0             false  \n",
       "1              true  \n",
       "2              true  \n",
       "3             false  \n",
       "4              true  \n",
       "...             ...  \n",
       "12831          true  \n",
       "12832          true  \n",
       "12833          true  \n",
       "12834         false  \n",
       "12835         false  \n",
       "\n",
       "[12836 rows x 138 columns]"
      ]
     },
     "execution_count": 13,
     "metadata": {},
     "output_type": "execute_result"
    }
   ],
   "source": [
    "# Pre-processing steps of the input claim for T5 classification task\n",
    "\n",
    "def prep_for_t5(input_claim):\n",
    "  # pre-pend the data with the task: since we're not using one of T5's built in tasks we can just make up our own\n",
    "  input_claim = 'truthfulness: ' + input_claim\n",
    "  return input_claim\n",
    "\n",
    "\n",
    "# Apply to the dataset\n",
    "\n",
    "# Claim is the original claim on its own\n",
    "df['claim'] = df['claim'].apply(prep_for_t5)\n",
    "\n",
    "# Combined text is the claim + concatenated metadata\n",
    "df['combined_text'] = df['combined_text'].apply(prep_for_t5)\n",
    "df\n"
   ]
  },
  {
   "cell_type": "code",
   "execution_count": 14,
   "metadata": {
    "colab": {
     "base_uri": "https://localhost:8080/",
     "height": 208,
     "referenced_widgets": [
      "b3a278e5ee014417b849295f2fcdf16e",
      "fefcf9ed02fb4ff3bc843475ed882bb3",
      "4dfb3e5f704146cbae8d11aa402ac41d",
      "b6ec6e8d1bed4b1b8db50de6a1e6ec3d",
      "562b5ff023b3424c9587eff6183f02fb",
      "436fb492fe5146ab9c9143fb919a80e2",
      "5f328a1f5e4740b5b4e87b130c448f8f",
      "ff11af5cbe44452db94dbdad56023a5d",
      "f3c25eea91e44d8c867683300492bf94",
      "f27aab608ad342ae8c30121b294df591",
      "293cc094a8b44d18a96b432a011a6862",
      "f83272df0bcd40248303946f166ea403",
      "eaad4af7e83e4640b75be2f310c0d482",
      "8f2fad863b1b458fbed9ae3048e97abf",
      "17e69b70fbff4f3395807d08e5fd6a04",
      "5eb8076771f346f19b07b4a12e29dd8a",
      "e795d78bde254bd3859e161dfbc773a3",
      "d8906fccbb474195aa73780b1739b55e",
      "b1d47c5fa5934905aea9700fa8328f66",
      "fc1a669a80114c919e7d38f9b8afbc51",
      "e2f4a2112ef94a08a5d338f47593d225",
      "502e8046991c4ee9bfdbcefc2f122059"
     ]
    },
    "id": "-NIC7h7_ug5S",
    "outputId": "1cfa768f-251e-4042-ec03-465b3f11702d"
   },
   "outputs": [
    {
     "data": {
      "application/vnd.jupyter.widget-view+json": {
       "model_id": "b3a278e5ee014417b849295f2fcdf16e",
       "version_major": 2,
       "version_minor": 0
      },
      "text/plain": [
       "Downloading (…)ve/main/spiece.model:   0%|          | 0.00/792k [00:00<?, ?B/s]"
      ]
     },
     "metadata": {},
     "output_type": "display_data"
    },
    {
     "data": {
      "application/vnd.jupyter.widget-view+json": {
       "model_id": "f83272df0bcd40248303946f166ea403",
       "version_major": 2,
       "version_minor": 0
      },
      "text/plain": [
       "Downloading (…)lve/main/config.json:   0%|          | 0.00/1.21k [00:00<?, ?B/s]"
      ]
     },
     "metadata": {},
     "output_type": "display_data"
    },
    {
     "name": "stderr",
     "output_type": "stream",
     "text": [
      "/usr/local/lib/python3.9/dist-packages/transformers/models/t5/tokenization_t5.py:163: FutureWarning: This tokenizer was incorrectly instantiated with a model max length of 512 which will be corrected in Transformers v5.\n",
      "For now, this behavior is kept to avoid breaking backwards compatibility when padding/encoding with `truncation is True`.\n",
      "- Be aware that you SHOULD NOT rely on t5-small automatically truncating your input to 512 when padding/encoding.\n",
      "- If you want to encode/pad to sequences longer than 512 you can either instantiate this tokenizer with `model_max_length` or pass `max_length` when encoding/padding.\n",
      "- To avoid this warning, please instantiate this tokenizer with `model_max_length` set to your preferred value.\n",
      "  warnings.warn(\n"
     ]
    }
   ],
   "source": [
    "# Will need to tokenize the labels for T5 as well - check the lengths so we can pad appropriately\n",
    "t5_tokenizer = T5Tokenizer.from_pretrained('t5-small')"
   ]
  },
  {
   "cell_type": "code",
   "execution_count": 15,
   "metadata": {
    "colab": {
     "base_uri": "https://localhost:8080/"
    },
    "id": "YThkP163wj8x",
    "outputId": "c6d2e697-9d12-4bd2-e1da-74f72a0f00d9"
   },
   "outputs": [
    {
     "data": {
      "text/plain": [
       "{'input_ids': [[209, 1], [220, 1], [314, 1], [305, 1], [204, 1], [431, 1]], 'attention_mask': [[1, 1], [1, 1], [1, 1], [1, 1], [1, 1], [1, 1]]}"
      ]
     },
     "execution_count": 15,
     "metadata": {},
     "output_type": "execute_result"
    }
   ],
   "source": [
    "# What is the max length of any of our tokenizers?\n",
    "t5_tokenizer(list(df['label_num'].unique()))\n",
    "# Good - all are 2"
   ]
  },
  {
   "cell_type": "code",
   "execution_count": 16,
   "metadata": {
    "colab": {
     "base_uri": "https://localhost:8080/"
    },
    "id": "gcCKJ8yB86f1",
    "outputId": "56e65d13-f6b7-4cae-b9de-741065f0a80f"
   },
   "outputs": [
    {
     "data": {
      "text/plain": [
       "{'input_ids': [[6136, 1], [1176, 1]], 'attention_mask': [[1, 1], [1, 1]]}"
      ]
     },
     "execution_count": 16,
     "metadata": {},
     "output_type": "execute_result"
    }
   ],
   "source": [
    "# What about binary?\n",
    "t5_tokenizer(list(df['binary_label'].unique()))\n",
    "# Looks like it's 2 - good"
   ]
  },
  {
   "cell_type": "code",
   "execution_count": 29,
   "metadata": {
    "id": "UCQ8wd2vxr1s"
   },
   "outputs": [],
   "source": [
    "train, val, test = np.split(df.sample(frac=1, random_state=42), [int(.6*len(df)), int(.8*len(df))])"
   ]
  },
  {
   "cell_type": "code",
   "execution_count": 30,
   "metadata": {
    "id": "I6Vr7zT76m3T"
   },
   "outputs": [],
   "source": [
    "# Convert to dictionary for easier processing into tensorflow dataset\n",
    "train = train.to_dict('records')\n",
    "val = val.to_dict('records')\n",
    "test = test.to_dict('records')"
   ]
  },
  {
   "cell_type": "code",
   "execution_count": 31,
   "metadata": {
    "id": "sN_wNPOGoNFh"
   },
   "outputs": [],
   "source": [
    "# Encode the dataset\n",
    "def encode(example, input_col,\n",
    "           encoder_max_len, decoder_max_len, is_binary):\n",
    "  \n",
    "    claim = example[input_col]\n",
    "    if is_binary:\n",
    "      label = example['binary_label']\n",
    "    else:\n",
    "      label = example['label_num']\n",
    "    \n",
    "    encoder_inputs = t5_tokenizer(claim, return_tensors='tf', max_length=encoder_max_len, padding='max_length', truncation=True)\n",
    "    \n",
    "    decoder_inputs = t5_tokenizer(label, return_tensors='tf', max_length=decoder_max_len, padding='max_length', truncation=True)\n",
    "\n",
    "    input_ids = encoder_inputs['input_ids'][0]\n",
    "    input_attention = encoder_inputs['attention_mask'][0]\n",
    "    target_ids = decoder_inputs['input_ids'][0]\n",
    "    target_attention = decoder_inputs['attention_mask'][0]\n",
    "    \n",
    "    outputs = {'input_ids':input_ids, 'attention_mask': input_attention, \n",
    "               'labels':target_ids, 'decoder_attention_mask':target_attention}\n",
    "    return outputs"
   ]
  },
  {
   "cell_type": "code",
   "execution_count": 32,
   "metadata": {
    "id": "BLvQYAdRkiOQ"
   },
   "outputs": [],
   "source": [
    "# organize the inputs as a dictionary to convert to a tf dataset\n",
    "six_way_train = [encode(x, input_col = 'claim', encoder_max_len = 512, decoder_max_len = 2, is_binary = False) for x in train]\n",
    "binary_train = [encode(x, input_col = 'claim', encoder_max_len = 512, decoder_max_len = 2, is_binary = True) for x in train]\n",
    "six_way_val = [encode(x, input_col = 'claim', encoder_max_len = 512, decoder_max_len = 2, is_binary = False) for x in val]\n",
    "binary_val = [encode(x, input_col = 'claim', encoder_max_len = 512, decoder_max_len = 2, is_binary = True) for x in val]\n",
    "six_way_test = [encode(x, input_col = 'claim', encoder_max_len = 512, decoder_max_len = 2, is_binary = False) for x in test]\n",
    "binary_test = [encode(x, input_col = 'claim', encoder_max_len = 512, decoder_max_len = 2, is_binary = True) for x in test]"
   ]
  },
  {
   "cell_type": "code",
   "execution_count": 33,
   "metadata": {
    "id": "P85DDkHE9FFj"
   },
   "outputs": [],
   "source": [
    "# Convert to tf dataset\n",
    "\n",
    "# Code borrowed from https://colab.research.google.com/github/snapthat/TF-T5-text-to-text/blob/master/snapthatT5/notebooks/TF-T5-Datasets%20Training.ipynb#scrollTo=TJVLbHbelMki\n",
    "# and drew inspiration from https://stackoverflow.com/questions/68567630/converting-a-list-of-dictionaries-to-a-tf-dataset\n",
    "def to_tf_dataset(dataset):\n",
    "  input_ids = tf.data.Dataset.from_tensor_slices([d['input_ids'] for d in dataset])\n",
    "  input_attention = tf.data.Dataset.from_tensor_slices([d['attention_mask'] for d in dataset])\n",
    "  labels = tf.data.Dataset.from_tensor_slices([d['labels'] for d in dataset])\n",
    "  decoder_attention_mask = tf.data.Dataset.from_tensor_slices([d['decoder_attention_mask'] for d in dataset])\n",
    "  ds = tf.data.Dataset.zip((input_ids, input_attention, labels, decoder_attention_mask))\n",
    "  ds = ds.map(lambda x, y, z, l: {\"input_ids\": x, \"attention_mask\": y,\n",
    "                                \"labels\": z, \"decoder_attention_mask\": l})\n",
    "  return ds"
   ]
  },
  {
   "cell_type": "code",
   "execution_count": 34,
   "metadata": {
    "id": "Gix4Baj69P84"
   },
   "outputs": [],
   "source": [
    "# 4 datasets - train/test for six way and binary classification tasks\n",
    "six_way_train_tf = to_tf_dataset(six_way_train)\n",
    "six_way_test_tf = to_tf_dataset(six_way_test)\n",
    "binary_train_tf = to_tf_dataset(binary_train)\n",
    "binary_test_tf = to_tf_dataset(binary_test)\n",
    "binary_val_tf = to_tf_dataset(binary_val)\n",
    "six_way_val_tf = to_tf_dataset(six_way_val)\n",
    "\n"
   ]
  },
  {
   "cell_type": "code",
   "execution_count": 35,
   "metadata": {
    "colab": {
     "base_uri": "https://localhost:8080/"
    },
    "id": "6V-jEROzTCxd",
    "outputId": "12d4ae72-f970-4bc3-b98f-1ff4031ca4cb"
   },
   "outputs": [
    {
     "name": "stderr",
     "output_type": "stream",
     "text": [
      "All model checkpoint layers were used when initializing TFT5ForConditionalGeneration.\n",
      "\n",
      "All the layers of TFT5ForConditionalGeneration were initialized from the model checkpoint at t5-small.\n",
      "If your task is similar to the task the model of the checkpoint was trained on, you can already use TFT5ForConditionalGeneration for predictions without further training.\n",
      "All model checkpoint layers were used when initializing TFT5ForConditionalGeneration.\n",
      "\n",
      "All the layers of TFT5ForConditionalGeneration were initialized from the model checkpoint at t5-small.\n",
      "If your task is similar to the task the model of the checkpoint was trained on, you can already use TFT5ForConditionalGeneration for predictions without further training.\n",
      "No loss specified in compile() - the model's internal loss computation will be used as the loss. Don't panic - this is a common way to train TensorFlow models in Transformers! To disable this behaviour please pass a loss argument, or explicitly pass `loss=None` if you do not want your model to compute a loss.\n",
      "No loss specified in compile() - the model's internal loss computation will be used as the loss. Don't panic - this is a common way to train TensorFlow models in Transformers! To disable this behaviour please pass a loss argument, or explicitly pass `loss=None` if you do not want your model to compute a loss.\n"
     ]
    }
   ],
   "source": [
    "# compile the models\n",
    "with tpu_strategy.scope(): # creating the model in the TPUStrategy scope means we will train the model on the TPU\n",
    "#import T5 model (using small to minimize run time)\n",
    "\n",
    "    # Batch the datasets\n",
    "  def batch_dataset(dataset, batch_size=200):    \n",
    "    dataset = dataset.batch(batch_size)\n",
    "    return dataset\n",
    "\n",
    "  six_way_train_tf = batch_dataset(six_way_train_tf)\n",
    "  six_way_test_tf = batch_dataset(six_way_test_tf)\n",
    "  six_way_val_tf = batch_dataset(six_way_val_tf)\n",
    "  binary_train_tf = batch_dataset(binary_train_tf)\n",
    "  binary_test_tf = batch_dataset(binary_test_tf)\n",
    "  binary_val_tf = batch_dataset(binary_val_tf)\n",
    "\n",
    "  six_way_model = TFT5ForConditionalGeneration.from_pretrained('t5-small') # using small to prevent GPU from crashing\n",
    "  binary_model = TFT5ForConditionalGeneration.from_pretrained('t5-small') # using small to prevent GPU from crashing\n",
    "  learning_rate = 0.00005\n",
    "  six_way_model.compile(optimizer=tf.keras.optimizers.Adam(learning_rate=learning_rate),\n",
    "                                 metrics='accuracy')\n",
    "\n",
    "  binary_model.compile(optimizer=tf.keras.optimizers.Adam(learning_rate=learning_rate),\n",
    "                                 metrics='accuracy')"
   ]
  },
  {
   "cell_type": "code",
   "execution_count": 36,
   "metadata": {
    "colab": {
     "base_uri": "https://localhost:8080/"
    },
    "id": "hwD1WGHv_YL-",
    "outputId": "96639417-5013-437e-c0a4-38efce660fda"
   },
   "outputs": [
    {
     "name": "stdout",
     "output_type": "stream",
     "text": [
      "Epoch 1/10\n",
      "39/39 [==============================] - 133s 2s/step - loss: 4.0750 - accuracy: 0.3621 - val_loss: 1.3256 - val_accuracy: 0.5756\n",
      "Epoch 2/10\n",
      "39/39 [==============================] - 12s 311ms/step - loss: 1.3301 - accuracy: 0.5701 - val_loss: 0.9507 - val_accuracy: 0.5980\n",
      "Epoch 3/10\n",
      "39/39 [==============================] - 12s 311ms/step - loss: 1.0484 - accuracy: 0.5951 - val_loss: 0.9098 - val_accuracy: 0.5952\n",
      "Epoch 4/10\n",
      "39/39 [==============================] - 12s 311ms/step - loss: 0.9973 - accuracy: 0.5936 - val_loss: 0.8965 - val_accuracy: 0.5978\n",
      "Epoch 5/10\n",
      "39/39 [==============================] - 12s 312ms/step - loss: 0.9689 - accuracy: 0.5979 - val_loss: 0.8892 - val_accuracy: 0.5991\n",
      "Epoch 6/10\n",
      "39/39 [==============================] - 12s 311ms/step - loss: 0.9532 - accuracy: 0.5999 - val_loss: 0.8841 - val_accuracy: 0.6021\n",
      "Epoch 7/10\n",
      "39/39 [==============================] - 12s 312ms/step - loss: 0.9430 - accuracy: 0.5978 - val_loss: 0.8812 - val_accuracy: 0.6054\n",
      "Epoch 8/10\n",
      "39/39 [==============================] - 12s 312ms/step - loss: 0.9363 - accuracy: 0.5999 - val_loss: 0.8793 - val_accuracy: 0.6050\n",
      "Epoch 9/10\n",
      "39/39 [==============================] - 12s 312ms/step - loss: 0.9307 - accuracy: 0.6036 - val_loss: 0.8766 - val_accuracy: 0.6093\n",
      "Epoch 10/10\n",
      "39/39 [==============================] - 12s 313ms/step - loss: 0.9252 - accuracy: 0.5996 - val_loss: 0.8755 - val_accuracy: 0.6114\n"
     ]
    }
   ],
   "source": [
    "# Basic T5 Model\n",
    "\n",
    "# Fit the model - both binary and six way tasks\n",
    "#binary_history = binary_model.fit(binary_train_tf, epochs=5,\n",
    "          #validation_data = binary_val_tf, batch_size=24)\n",
    "\n",
    "initial_six_way_history = six_way_model.fit(six_way_train_tf, epochs=10, validation_data = six_way_val_tf, batch_size=24)"
   ]
  },
  {
   "cell_type": "markdown",
   "metadata": {
    "id": "4lUxqKd39Fpc"
   },
   "source": [
    "# T5 - claim + concatenated metadata"
   ]
  },
  {
   "cell_type": "code",
   "execution_count": 37,
   "metadata": {
    "id": "KF3DmAQn9gQI"
   },
   "outputs": [],
   "source": [
    "# organize the inputs as a dictionary to convert to a tf dataset\n",
    "six_way_train = [encode(x, input_col = 'combined_text', encoder_max_len = 512, decoder_max_len = 2, is_binary = False) for x in train]\n",
    "binary_train = [encode(x, input_col = 'combined_text', encoder_max_len = 512, decoder_max_len = 2, is_binary = True) for x in train]\n",
    "six_way_val = [encode(x, input_col = 'combined_text', encoder_max_len = 512, decoder_max_len = 2, is_binary = False) for x in val]\n",
    "binary_val = [encode(x, input_col = 'combined_text', encoder_max_len = 512, decoder_max_len = 2, is_binary = True) for x in val]\n",
    "six_way_test = [encode(x, input_col = 'combined_text', encoder_max_len = 512, decoder_max_len = 2, is_binary = False) for x in test]\n",
    "binary_test = [encode(x, input_col = 'combined_text', encoder_max_len = 512, decoder_max_len = 2, is_binary = True) for x in test]"
   ]
  },
  {
   "cell_type": "code",
   "execution_count": 38,
   "metadata": {
    "id": "885Lhs9N-HKc"
   },
   "outputs": [],
   "source": [
    "# 4 datasets - train/test for six way and binary classification tasks\n",
    "six_way_train_tf = to_tf_dataset(six_way_train)\n",
    "six_way_test_tf = to_tf_dataset(six_way_test)\n",
    "binary_train_tf = to_tf_dataset(binary_train)\n",
    "binary_test_tf = to_tf_dataset(binary_test)\n",
    "binary_val_tf = to_tf_dataset(binary_val)\n",
    "six_way_val_tf = to_tf_dataset(six_way_val)\n",
    "\n"
   ]
  },
  {
   "cell_type": "code",
   "execution_count": 39,
   "metadata": {
    "colab": {
     "base_uri": "https://localhost:8080/"
    },
    "id": "YvwFgThs-Qds",
    "outputId": "5fb7f5a5-0ca1-4246-a4c5-3b1de50dd9b9"
   },
   "outputs": [
    {
     "name": "stderr",
     "output_type": "stream",
     "text": [
      "All model checkpoint layers were used when initializing TFT5ForConditionalGeneration.\n",
      "\n",
      "All the layers of TFT5ForConditionalGeneration were initialized from the model checkpoint at t5-small.\n",
      "If your task is similar to the task the model of the checkpoint was trained on, you can already use TFT5ForConditionalGeneration for predictions without further training.\n",
      "All model checkpoint layers were used when initializing TFT5ForConditionalGeneration.\n",
      "\n",
      "All the layers of TFT5ForConditionalGeneration were initialized from the model checkpoint at t5-small.\n",
      "If your task is similar to the task the model of the checkpoint was trained on, you can already use TFT5ForConditionalGeneration for predictions without further training.\n",
      "No loss specified in compile() - the model's internal loss computation will be used as the loss. Don't panic - this is a common way to train TensorFlow models in Transformers! To disable this behaviour please pass a loss argument, or explicitly pass `loss=None` if you do not want your model to compute a loss.\n",
      "No loss specified in compile() - the model's internal loss computation will be used as the loss. Don't panic - this is a common way to train TensorFlow models in Transformers! To disable this behaviour please pass a loss argument, or explicitly pass `loss=None` if you do not want your model to compute a loss.\n"
     ]
    }
   ],
   "source": [
    "# compile the models\n",
    "with tpu_strategy.scope(): # creating the model in the TPUStrategy scope means we will train the model on the TPU\n",
    "#import T5 model (using small to minimize run time)\n",
    "\n",
    "  # Batch the datasets\n",
    "  six_way_train_tf = batch_dataset(six_way_train_tf)\n",
    "  six_way_test_tf = batch_dataset(six_way_test_tf)\n",
    "  six_way_val_tf = batch_dataset(six_way_val_tf)\n",
    "  binary_train_tf = batch_dataset(binary_train_tf)\n",
    "  binary_test_tf = batch_dataset(binary_test_tf)\n",
    "  binary_val_tf = batch_dataset(binary_val_tf)\n",
    "\n",
    "  six_way_concat_model = TFT5ForConditionalGeneration.from_pretrained('t5-small') # using small to prevent GPU from crashing\n",
    "  binary_concat_model = TFT5ForConditionalGeneration.from_pretrained('t5-small') # using small to prevent GPU from crashing\n",
    "  learning_rate = 0.0001\n",
    "  six_way_concat_model.compile(optimizer=tf.keras.optimizers.Adam(learning_rate=learning_rate),\n",
    "                                 metrics='accuracy')\n",
    "\n",
    "  binary_concat_model.compile(optimizer=tf.keras.optimizers.Adam(learning_rate=learning_rate),\n",
    "                                 metrics='accuracy')"
   ]
  },
  {
   "cell_type": "code",
   "execution_count": 40,
   "metadata": {
    "colab": {
     "base_uri": "https://localhost:8080/"
    },
    "id": "mS8sj5CG-eoL",
    "outputId": "7863e845-49df-443c-94af-dd01bbed563a"
   },
   "outputs": [
    {
     "name": "stdout",
     "output_type": "stream",
     "text": [
      "Epoch 1/5\n",
      "39/39 [==============================] - 131s 2s/step - loss: 2.2518 - accuracy: 0.6068 - val_loss: 0.3565 - val_accuracy: 0.7820\n",
      "Epoch 2/5\n",
      "39/39 [==============================] - 12s 315ms/step - loss: 0.4170 - accuracy: 0.7666 - val_loss: 0.3518 - val_accuracy: 0.7803\n",
      "Epoch 3/5\n",
      "39/39 [==============================] - 12s 316ms/step - loss: 0.3969 - accuracy: 0.7707 - val_loss: 0.3437 - val_accuracy: 0.7857\n",
      "Epoch 4/5\n",
      "39/39 [==============================] - 12s 317ms/step - loss: 0.3784 - accuracy: 0.7743 - val_loss: 0.3374 - val_accuracy: 0.7918\n",
      "Epoch 5/5\n",
      "39/39 [==============================] - 12s 318ms/step - loss: 0.3736 - accuracy: 0.7809 - val_loss: 0.3362 - val_accuracy: 0.7941\n",
      "Epoch 1/10\n",
      "39/39 [==============================] - 138s 2s/step - loss: 3.1031 - accuracy: 0.4415 - val_loss: 1.0288 - val_accuracy: 0.5974\n",
      "Epoch 2/10\n",
      "39/39 [==============================] - 12s 315ms/step - loss: 1.0288 - accuracy: 0.5952 - val_loss: 0.8930 - val_accuracy: 0.5984\n",
      "Epoch 3/10\n",
      "39/39 [==============================] - 12s 317ms/step - loss: 0.9599 - accuracy: 0.5948 - val_loss: 0.8830 - val_accuracy: 0.5988\n",
      "Epoch 4/10\n",
      "39/39 [==============================] - 12s 317ms/step - loss: 0.9352 - accuracy: 0.5984 - val_loss: 0.8781 - val_accuracy: 0.6099\n",
      "Epoch 5/10\n",
      "39/39 [==============================] - 12s 315ms/step - loss: 0.9219 - accuracy: 0.6014 - val_loss: 0.8765 - val_accuracy: 0.6063\n",
      "Epoch 6/10\n",
      "39/39 [==============================] - 12s 313ms/step - loss: 0.9132 - accuracy: 0.6047 - val_loss: 0.8752 - val_accuracy: 0.6091\n",
      "Epoch 7/10\n",
      "39/39 [==============================] - 12s 315ms/step - loss: 0.9115 - accuracy: 0.5981 - val_loss: 0.8749 - val_accuracy: 0.6134\n",
      "Epoch 8/10\n",
      "39/39 [==============================] - 12s 314ms/step - loss: 0.9069 - accuracy: 0.5997 - val_loss: 0.8730 - val_accuracy: 0.6147\n",
      "Epoch 9/10\n",
      "39/39 [==============================] - 12s 317ms/step - loss: 0.9030 - accuracy: 0.5997 - val_loss: 0.8716 - val_accuracy: 0.6175\n",
      "Epoch 10/10\n",
      "39/39 [==============================] - 12s 315ms/step - loss: 0.8948 - accuracy: 0.6069 - val_loss: 0.8684 - val_accuracy: 0.6217\n"
     ]
    }
   ],
   "source": [
    "# T5 on claim with concatentated metadata\n",
    "\n",
    "\n",
    "# Fit the model - both binary and six way tasks\n",
    "binary_concat_history = binary_concat_model.fit(binary_train_tf, epochs=5,\n",
    "          validation_data = binary_val_tf, batch_size=24)\n",
    "\n",
    "six_way_concat_history = six_way_concat_model.fit(six_way_train_tf, epochs=10, validation_data = six_way_val_tf, batch_size=24)"
   ]
  },
  {
   "cell_type": "code",
   "execution_count": 41,
   "metadata": {
    "id": "7ENH7h3EQjJ0"
   },
   "outputs": [],
   "source": [
    "# Get the tokenized text for T5 - we're using the concatenated input data for this\n",
    "test_input = [x['combined_text'] for x in test]\n",
    "train_input = [x['combined_text'] for x in train]\n",
    "val_input = [x['combined_text'] for x in val]\n",
    "\n",
    "def tokenize_list(my_list):\n",
    "  tokenized = [t5_tokenizer(x, padding='max_length', max_length=512, truncation=True, return_tensors='tf') for x in my_list]\n",
    "  input_ids = np.array([x['input_ids'][0] for x in tokenized])\n",
    "  attention_mask = np.array([x['attention_mask'][0] for x in tokenized])\n",
    "  return input_ids, attention_mask\n",
    "\n",
    "test_input_ids, test_attention_mask = tokenize_list(test_input)\n",
    "train_input_ids, train_attention_mask = tokenize_list(train_input)\n",
    "val_input_ids, val_attention_mask = tokenize_list(val_input)\n",
    "\n",
    "test_labels = np.array([x['label'] for x in test])\n",
    "train_labels = np.array([x['label'] for x in train])\n",
    "val_labels =np.array([x['label'] for x in val])\n",
    "\n",
    "test_labels_binary = np.array([x['binary_label'] for x in test])\n",
    "train_labels_binary = np.array([x['binary_label'] for x in train])\n",
    "val_labels_binary = np.array([x['binary_label'] for x in val])"
   ]
  },
  {
   "cell_type": "code",
   "execution_count": 42,
   "metadata": {
    "id": "hknuVnTRq_CH"
   },
   "outputs": [],
   "source": [
    "test_labels = np.array([x['label_num'] for x in test])\n",
    "train_labels = np.array([x['label_num'] for x in train])\n",
    "val_labels =np.array([x['label_num'] for x in val])\n",
    "\n",
    "test_labels_binary = np.array([x['binary_label'] for x in test])\n",
    "train_labels_binary = np.array([x['binary_label'] for x in train])\n",
    "val_labels_binary = np.array([x['binary_label'] for x in val])"
   ]
  },
  {
   "cell_type": "code",
   "execution_count": null,
   "metadata": {
    "colab": {
     "base_uri": "https://localhost:8080/"
    },
    "id": "xEInw2gA-1bS",
    "outputId": "ea6c028a-0b96-45c9-8aac-31db04fe67dc"
   },
   "outputs": [
    {
     "name": "stderr",
     "output_type": "stream",
     "text": [
      "/usr/local/lib/python3.9/dist-packages/transformers/generation/tf_utils.py:854: UserWarning: Using `max_length`'s default (20) to control the generation length. This behaviour is deprecated and will be removed from the config in v5 of Transformers -- we recommend using `max_new_tokens` to control the maximum length of the generation.\n",
      "  warnings.warn(\n"
     ]
    }
   ],
   "source": [
    "# Prep the data to run the model evaluation\n",
    "\n",
    "# Tokenize the claim\n",
    "test_claims = [x['claim'] for x in test]\n",
    "\n",
    "test_input_ids = [t5_tokenizer(x, return_tensors = 'tf', max_length=512, truncation=True, padding='max_length') for x in test_claims]\n",
    "test_input_ids = [ x['input_ids'] for x in test_input_ids]\n",
    "\n",
    "with tpu_strategy.scope():\n",
    "  predictions = [six_way_model.generate(x).numpy()[0] for x in test_input_ids]\n",
    "\n",
    "predictions = [t5_tokenizer.decode(x) for x in predictions]"
   ]
  },
  {
   "cell_type": "code",
   "execution_count": 44,
   "metadata": {
    "id": "lyISnnpFlBUT"
   },
   "outputs": [],
   "source": [
    "# Prep the data to run the model evaluation\n",
    "\n",
    "# Tokenize the claim\n",
    "test_combined = [x['combined_text'] for x in test]\n",
    "\n",
    "test_comb_input_ids = [t5_tokenizer(x, return_tensors = 'tf', max_length=512, truncation=True, padding='max_length') for x in test_combined]\n",
    "test_comb_input_ids = [x['input_ids'] for x in test_comb_input_ids]\n",
    "\n",
    "with tpu_strategy.scope():\n",
    "  predictions_comb = [six_way_concat_model.generate(x).numpy()[0] for x in test_comb_input_ids]\n",
    "\n",
    "predictions_comb = [t5_tokenizer.decode(x) for x in predictions_comb]"
   ]
  },
  {
   "cell_type": "code",
   "execution_count": 45,
   "metadata": {
    "id": "5OifkIHpA2Zx"
   },
   "outputs": [],
   "source": [
    "# Clean up the predictions for comparison\n",
    "\n",
    "predictions_comb = [x.replace('<pad> ', '').replace('</s>', '') for x in predictions_comb]\n",
    "predictions = [x.replace('<pad> ', '').replace('</s>', '') for x in predictions]"
   ]
  },
  {
   "cell_type": "code",
   "execution_count": 46,
   "metadata": {
    "id": "r3pfdmY5WRwO"
   },
   "outputs": [],
   "source": [
    "# Function to evaluate a model and proudce metrics for the report, as well as some preliminary analysis\n",
    "from sklearn.metrics import classification_report, f1_score\n",
    "from random import sample\n",
    "import seaborn as sns\n",
    "label_map = {'1': 'false', '2': 'barely true', '3':'half true', '4':'mostly true', '5': 'true', '6':'pants fire'}\n",
    "def evaluate_model(model, model_history, test_labels, test_predictions, test_inputs):\n",
    "  # Display the learning curve to check for over fitting\n",
    "  print(\"Learning Curve\")\n",
    "  fig, axs = plt.subplots(1,2)\n",
    "  fig.subplots_adjust(left=0.2, wspace=0.6)\n",
    "  make_plot(axs,\n",
    "              model_history,\n",
    "              )\n",
    "\n",
    "  fig.set_size_inches(12.5,5.5)\n",
    "  plt.show()\n",
    "\n",
    "  # F1 score table\n",
    "  print(\"Precision, Recall, F1 Scores by class\")\n",
    "  # Need to decode the outputs\n",
    "  test_labels_for_conf = [label_map[x] for x in test_labels]\n",
    "  test_predictions_for_conf = [label_map[x] for x in test_predictions]\n",
    "  print(classification_report(test_labels_for_conf, test_predictions_for_conf))\n",
    "\n",
    "  # Display the confusion matrix to see which classes are getting mis-classified\n",
    "  print('Confusion matrix')\n",
    "  cm = tf.math.confusion_matrix([int(x)-1 for x in test_labels], [int(x)-1 for x in test_predictions])\n",
    "  cm = cm/cm.numpy().sum(axis=1)[:, tf.newaxis]\n",
    "\n",
    "  plt.figure(figsize=(10, 3.5))\n",
    "  sns.heatmap(\n",
    "    cm, annot=True,\n",
    "    xticklabels=label_map.values(),\n",
    "    yticklabels=label_map.values())\n",
    "  plt.xlabel(\"Predicted\")\n",
    "  plt.ylabel(\"True\")\n",
    "  plt.show()\n",
    "\n",
    "  # What class has the lowest F1 score? Print some examples of this class\n",
    "  f1_by_class = list(f1_score(y_true = test_labels, y_pred = test_predictions, average=None))\n",
    "  min_f1 = min(f1_by_class)\n",
    "  print(f1_by_class)\n",
    "  for i, f1 in enumerate(f1_by_class):\n",
    "    if f1 == min_f1:\n",
    "      for k, v in label_map.items():\n",
    "        if int(k)-1 == i:\n",
    "          class_label = v\n",
    "          print(\"Class(es) with lowest f1 score: {}\".format(class_label))\n",
    "          print(\"Examples of mis-classified statements:\")\n",
    "          example_pool = [test_inputs[i] for i in range(len(test_inputs)) if test_labels[i] == k and test_predictions[i] != k]\n",
    "          predictions_pool = [label_map[test_predictions[i]] for i in range(len(test_inputs)) if test_labels[i] == k and test_predictions[i] != k]\n",
    "          zipped_pool = list(zip(example_pool, predictions_pool))\n",
    "          for x in (sample(zipped_pool, 3)):\n",
    "            print('Input:', x[0])\n",
    "            print('Predicted class:', x[1])\n",
    "\n",
    "          \n",
    "\n",
    "          \n",
    "\n",
    "  "
   ]
  },
  {
   "cell_type": "code",
   "execution_count": 47,
   "metadata": {
    "colab": {
     "base_uri": "https://localhost:8080/",
     "height": 1000
    },
    "id": "U3ok6J555RVZ",
    "outputId": "1afc8ae3-f38e-4a38-f231-ee4c9de56e99"
   },
   "outputs": [
    {
     "name": "stdout",
     "output_type": "stream",
     "text": [
      "Learning Curve\n"
     ]
    },
    {
     "data": {
      "image/png": "[encoded data removed]",
      "text/plain": [
       "<Figure size 1250x550 with 2 Axes>"
      ]
     },
     "metadata": {},
     "output_type": "display_data"
    },
    {
     "name": "stdout",
     "output_type": "stream",
     "text": [
      "Precision, Recall, F1 Scores by class\n",
      "              precision    recall  f1-score   support\n",
      "\n",
      " barely true       0.00      0.00      0.00       429\n",
      "       false       0.27      0.24      0.25       523\n",
      "   half true       0.22      0.17      0.19       534\n",
      " mostly true       0.21      0.73      0.32       469\n",
      "  pants fire       0.00      0.00      0.00       211\n",
      "        true       0.21      0.02      0.03       402\n",
      "\n",
      "    accuracy                           0.22      2568\n",
      "   macro avg       0.15      0.19      0.13      2568\n",
      "weighted avg       0.17      0.22      0.15      2568\n",
      "\n",
      "Confusion matrix\n"
     ]
    },
    {
     "name": "stderr",
     "output_type": "stream",
     "text": [
      "/usr/local/lib/python3.9/dist-packages/sklearn/metrics/_classification.py:1344: UndefinedMetricWarning: Precision and F-score are ill-defined and being set to 0.0 in labels with no predicted samples. Use `zero_division` parameter to control this behavior.\n",
      "  _warn_prf(average, modifier, msg_start, len(result))\n",
      "/usr/local/lib/python3.9/dist-packages/sklearn/metrics/_classification.py:1344: UndefinedMetricWarning: Precision and F-score are ill-defined and being set to 0.0 in labels with no predicted samples. Use `zero_division` parameter to control this behavior.\n",
      "  _warn_prf(average, modifier, msg_start, len(result))\n",
      "/usr/local/lib/python3.9/dist-packages/sklearn/metrics/_classification.py:1344: UndefinedMetricWarning: Precision and F-score are ill-defined and being set to 0.0 in labels with no predicted samples. Use `zero_division` parameter to control this behavior.\n",
      "  _warn_prf(average, modifier, msg_start, len(result))\n"
     ]
    },
    {
     "data": {
      "image/png": "[encoded data removed]",
      "text/plain": [
       "<Figure size 1000x350 with 2 Axes>"
      ]
     },
     "metadata": {},
     "output_type": "display_data"
    },
    {
     "name": "stdout",
     "output_type": "stream",
     "text": [
      "[0.25, 0.0, 0.1920668058455115, 0.3229166666666667, 0.03218390804597701, 0.0]\n",
      "Class(es) with lowest f1 score: barely true\n",
      "Examples of mis-classified statements:\n",
      "Input: truthfulness: Says a trash mound on U.S. 290 is 800 feet tall.\n",
      "Predicted class: mostly true\n",
      "Input: truthfulness: The Wisconsin Retirement System for public employees is a self-funded pension plan and its the money of the workers that funds it.\n",
      "Predicted class: false\n",
      "Input: truthfulness: Cuccinelli wants to make all abortion illegal, even in cases of rape and incest, even to protect a womans health.\n",
      "Predicted class: mostly true\n",
      "Class(es) with lowest f1 score: pants fire\n",
      "Examples of mis-classified statements:\n",
      "Input: truthfulness: Scott Walker has a plan to privatize state lands and wants to sell our deer to the highest bidder.\n",
      "Predicted class: mostly true\n",
      "Input: truthfulness: Barack Obama began his presidency with an apology tour.\n",
      "Predicted class: false\n",
      "Input: truthfulness: Barack Obama and Hillary Clinton are negotiating with the United Nations about doing a treaty that will ban the use of firearms.\n",
      "Predicted class: mostly true\n"
     ]
    }
   ],
   "source": [
    "evaluate_model(six_way_model, initial_six_way_history, test_labels, predictions, test_claims)"
   ]
  },
  {
   "cell_type": "code",
   "execution_count": 48,
   "metadata": {
    "colab": {
     "base_uri": "https://localhost:8080/",
     "height": 1000
    },
    "id": "y8p5kK1rk1yj",
    "outputId": "e120604f-029c-402b-bd81-43dca65349fb"
   },
   "outputs": [
    {
     "name": "stdout",
     "output_type": "stream",
     "text": [
      "Learning Curve\n"
     ]
    },
    {
     "data": {
      "image/png": "[encoded data removed]",
      "text/plain": [
       "<Figure size 1250x550 with 2 Axes>"
      ]
     },
     "metadata": {},
     "output_type": "display_data"
    },
    {
     "name": "stdout",
     "output_type": "stream",
     "text": [
      "Precision, Recall, F1 Scores by class\n",
      "              precision    recall  f1-score   support\n",
      "\n",
      " barely true       0.21      0.02      0.04       429\n",
      "       false       0.26      0.49      0.34       523\n",
      "   half true       0.24      0.41      0.30       534\n",
      " mostly true       0.24      0.28      0.26       469\n",
      "  pants fire       0.62      0.04      0.07       211\n",
      "        true       0.13      0.01      0.02       402\n",
      "\n",
      "    accuracy                           0.24      2568\n",
      "   macro avg       0.28      0.21      0.17      2568\n",
      "weighted avg       0.25      0.24      0.19      2568\n",
      "\n",
      "Confusion matrix\n"
     ]
    },
    {
     "data": {
      "image/png": "[encoded data removed]",
      "text/plain": [
       "<Figure size 1000x350 with 2 Axes>"
      ]
     },
     "metadata": {},
     "output_type": "display_data"
    },
    {
     "name": "stdout",
     "output_type": "stream",
     "text": [
      "[0.3355176933158584, 0.041928721174004195, 0.2988348183687457, 0.2594059405940594, 0.022727272727272728, 0.07142857142857144]\n",
      "Class(es) with lowest f1 score: true\n",
      "Examples of mis-classified statements:\n",
      "Input: truthfulness: Gov. Rick Scotts sale of the state planes was not proper. legal-issues state-budget jd-alexander State senator Florida\n",
      "Predicted class: false\n",
      "Input: truthfulness: A bill before the Georgia General Assembly would make presidential candidates meet citizenship requirements that are not in the U.S. Constitution. obama-birth-certificate loren-collins Attorney, blogger Georgia\n",
      "Predicted class: false\n",
      "Input: truthfulness: \"Obama said his proposed $1,000 emergency energy rebate \"\"will be enough to offset the increased cost of gas for a working family over the next 4 months.\"\"\" energy barack-obama President Illinois\n",
      "Predicted class: mostly true\n"
     ]
    }
   ],
   "source": [
    "evaluate_model(six_way_concat_model, six_way_concat_history, test_labels, predictions_comb, test_combined)"
   ]
  },
  {
   "cell_type": "code",
   "execution_count": null,
   "metadata": {
    "colab": {
     "base_uri": "https://localhost:8080/"
    },
    "id": "GzaYqgOkEDyt",
    "outputId": "4b94a8f8-d529-4a9c-809d-9a8781154373"
   },
   "outputs": [
    {
     "metadata": {
      "tags": null
     },
     "name": "stderr",
     "output_type": "stream",
     "text": [
      "/usr/local/lib/python3.9/dist-packages/transformers/generation/tf_utils.py:854: UserWarning: Using `max_length`'s default (20) to control the generation length. This behaviour is deprecated and will be removed from the config in v5 of Transformers -- we recommend using `max_new_tokens` to control the maximum length of the generation.\n",
      "  warnings.warn(\n"
     ]
    }
   ],
   "source": [
    "# Tokenize the claim for validation data\n",
    "val_claims = [x['claim'] for x in val]\n",
    "\n",
    "val_input_ids = [t5_tokenizer(x, return_tensors = 'tf', max_length=512, truncation=True, padding='max_length') for x in val_claims]\n",
    "val_input_ids = [x['input_ids'] for x in val_input_ids]\n",
    "\n",
    "with tpu_strategy.scope():\n",
    "  val_predictions = [six_way_model.generate(x).numpy()[0] for x in val_input_ids]\n",
    "\n",
    "val_predictions = [t5_tokenizer.decode(x) for x in val_predictions]"
   ]
  },
  {
   "cell_type": "code",
   "execution_count": 57,
   "metadata": {
    "colab": {
     "base_uri": "https://localhost:8080/"
    },
    "id": "JcP4gCZWVP3n",
    "outputId": "26fa969c-e870-48db-d6a1-a17d96a76ba7"
   },
   "outputs": [
    {
     "name": "stdout",
     "output_type": "stream",
     "text": [
      "2567\n",
      "570\n"
     ]
    },
    {
     "data": {
      "text/plain": [
       "('4', '4')"
      ]
     },
     "execution_count": 57,
     "metadata": {},
     "output_type": "execute_result"
    }
   ],
   "source": [
    "val_predictions = [x.replace('<pad> ', '').replace('</s', '').replace('>', '') for x in val_predictions]\n",
    "# Printed tensorflow validation is wrong due to how tensorflow scores itself (the EOS tokens are getting credit for matching when they shouldn't). check actual val accuracy\n",
    "accuracy = list(zip(val_predictions, val_labels))\n",
    "numerator = [x for x in accuracy if x[0] == x[1]]\n",
    "                                \n",
    "print(len(accuracy))\n",
    "print(len(numerator))\n",
    "\n",
    "accuracy[0]\n"
   ]
  }
 ],
 "metadata": {
  "accelerator": "TPU",
  "colab": {
   "machine_shape": "hm",
   "provenance": []
  },
  "gpuClass": "premium",
  "kernelspec": {
   "display_name": "Python 3",
   "language": "python",
   "name": "python3"
  },
  "language_info": {
   "codemirror_mode": {
    "name": "ipython",
    "version": 3
   },
   "file_extension": ".py",
   "mimetype": "text/x-python",
   "name": "python",
   "nbconvert_exporter": "python",
   "pygments_lexer": "ipython3",
   "version": "3.7.4"
  },
  "widgets": {
   "application/vnd.jupyter.widget-state+json": {
    "17e69b70fbff4f3395807d08e5fd6a04": {
     "model_module": "@jupyter-widgets/controls",
     "model_module_version": "1.5.0",
     "model_name": "HTMLModel",
     "state": {
      "_dom_classes": [],
      "_model_module": "@jupyter-widgets/controls",
      "_model_module_version": "1.5.0",
      "_model_name": "HTMLModel",
      "_view_count": null,
      "_view_module": "@jupyter-widgets/controls",
      "_view_module_version": "1.5.0",
      "_view_name": "HTMLView",
      "description": "",
      "description_tooltip": null,
      "layout": "IPY_MODEL_e2f4a2112ef94a08a5d338f47593d225",
      "placeholder": "​",
      "style": "IPY_MODEL_502e8046991c4ee9bfdbcefc2f122059",
      "value": " 1.21k/1.21k [00:00&lt;00:00, 85.4kB/s]"
     }
    },
    "293cc094a8b44d18a96b432a011a6862": {
     "model_module": "@jupyter-widgets/controls",
     "model_module_version": "1.5.0",
     "model_name": "DescriptionStyleModel",
     "state": {
      "_model_module": "@jupyter-widgets/controls",
      "_model_module_version": "1.5.0",
      "_model_name": "DescriptionStyleModel",
      "_view_count": null,
      "_view_module": "@jupyter-widgets/base",
      "_view_module_version": "1.2.0",
      "_view_name": "StyleView",
      "description_width": ""
     }
    },
    "436fb492fe5146ab9c9143fb919a80e2": {
     "model_module": "@jupyter-widgets/base",
     "model_module_version": "1.2.0",
     "model_name": "LayoutModel",
     "state": {
      "_model_module": "@jupyter-widgets/base",
      "_model_module_version": "1.2.0",
      "_model_name": "LayoutModel",
      "_view_count": null,
      "_view_module": "@jupyter-widgets/base",
      "_view_module_version": "1.2.0",
      "_view_name": "LayoutView",
      "align_content": null,
      "align_items": null,
      "align_self": null,
      "border": null,
      "bottom": null,
      "display": null,
      "flex": null,
      "flex_flow": null,
      "grid_area": null,
      "grid_auto_columns": null,
      "grid_auto_flow": null,
      "grid_auto_rows": null,
      "grid_column": null,
      "grid_gap": null,
      "grid_row": null,
      "grid_template_areas": null,
      "grid_template_columns": null,
      "grid_template_rows": null,
      "height": null,
      "justify_content": null,
      "justify_items": null,
      "left": null,
      "margin": null,
      "max_height": null,
      "max_width": null,
      "min_height": null,
      "min_width": null,
      "object_fit": null,
      "object_position": null,
      "order": null,
      "overflow": null,
      "overflow_x": null,
      "overflow_y": null,
      "padding": null,
      "right": null,
      "top": null,
      "visibility": null,
      "width": null
     }
    },
    "4dfb3e5f704146cbae8d11aa402ac41d": {
     "model_module": "@jupyter-widgets/controls",
     "model_module_version": "1.5.0",
     "model_name": "FloatProgressModel",
     "state": {
      "_dom_classes": [],
      "_model_module": "@jupyter-widgets/controls",
      "_model_module_version": "1.5.0",
      "_model_name": "FloatProgressModel",
      "_view_count": null,
      "_view_module": "@jupyter-widgets/controls",
      "_view_module_version": "1.5.0",
      "_view_name": "ProgressView",
      "bar_style": "success",
      "description": "",
      "description_tooltip": null,
      "layout": "IPY_MODEL_ff11af5cbe44452db94dbdad56023a5d",
      "max": 791656,
      "min": 0,
      "orientation": "horizontal",
      "style": "IPY_MODEL_f3c25eea91e44d8c867683300492bf94",
      "value": 791656
     }
    },
    "502e8046991c4ee9bfdbcefc2f122059": {
     "model_module": "@jupyter-widgets/controls",
     "model_module_version": "1.5.0",
     "model_name": "DescriptionStyleModel",
     "state": {
      "_model_module": "@jupyter-widgets/controls",
      "_model_module_version": "1.5.0",
      "_model_name": "DescriptionStyleModel",
      "_view_count": null,
      "_view_module": "@jupyter-widgets/base",
      "_view_module_version": "1.2.0",
      "_view_name": "StyleView",
      "description_width": ""
     }
    },
    "562b5ff023b3424c9587eff6183f02fb": {
     "model_module": "@jupyter-widgets/base",
     "model_module_version": "1.2.0",
     "model_name": "LayoutModel",
     "state": {
      "_model_module": "@jupyter-widgets/base",
      "_model_module_version": "1.2.0",
      "_model_name": "LayoutModel",
      "_view_count": null,
      "_view_module": "@jupyter-widgets/base",
      "_view_module_version": "1.2.0",
      "_view_name": "LayoutView",
      "align_content": null,
      "align_items": null,
      "align_self": null,
      "border": null,
      "bottom": null,
      "display": null,
      "flex": null,
      "flex_flow": null,
      "grid_area": null,
      "grid_auto_columns": null,
      "grid_auto_flow": null,
      "grid_auto_rows": null,
      "grid_column": null,
      "grid_gap": null,
      "grid_row": null,
      "grid_template_areas": null,
      "grid_template_columns": null,
      "grid_template_rows": null,
      "height": null,
      "justify_content": null,
      "justify_items": null,
      "left": null,
      "margin": null,
      "max_height": null,
      "max_width": null,
      "min_height": null,
      "min_width": null,
      "object_fit": null,
      "object_position": null,
      "order": null,
      "overflow": null,
      "overflow_x": null,
      "overflow_y": null,
      "padding": null,
      "right": null,
      "top": null,
      "visibility": null,
      "width": null
     }
    },
    "5eb8076771f346f19b07b4a12e29dd8a": {
     "model_module": "@jupyter-widgets/base",
     "model_module_version": "1.2.0",
     "model_name": "LayoutModel",
     "state": {
      "_model_module": "@jupyter-widgets/base",
      "_model_module_version": "1.2.0",
      "_model_name": "LayoutModel",
      "_view_count": null,
      "_view_module": "@jupyter-widgets/base",
      "_view_module_version": "1.2.0",
      "_view_name": "LayoutView",
      "align_content": null,
      "align_items": null,
      "align_self": null,
      "border": null,
      "bottom": null,
      "display": null,
      "flex": null,
      "flex_flow": null,
      "grid_area": null,
      "grid_auto_columns": null,
      "grid_auto_flow": null,
      "grid_auto_rows": null,
      "grid_column": null,
      "grid_gap": null,
      "grid_row": null,
      "grid_template_areas": null,
      "grid_template_columns": null,
      "grid_template_rows": null,
      "height": null,
      "justify_content": null,
      "justify_items": null,
      "left": null,
      "margin": null,
      "max_height": null,
      "max_width": null,
      "min_height": null,
      "min_width": null,
      "object_fit": null,
      "object_position": null,
      "order": null,
      "overflow": null,
      "overflow_x": null,
      "overflow_y": null,
      "padding": null,
      "right": null,
      "top": null,
      "visibility": null,
      "width": null
     }
    },
    "5f328a1f5e4740b5b4e87b130c448f8f": {
     "model_module": "@jupyter-widgets/controls",
     "model_module_version": "1.5.0",
     "model_name": "DescriptionStyleModel",
     "state": {
      "_model_module": "@jupyter-widgets/controls",
      "_model_module_version": "1.5.0",
      "_model_name": "DescriptionStyleModel",
      "_view_count": null,
      "_view_module": "@jupyter-widgets/base",
      "_view_module_version": "1.2.0",
      "_view_name": "StyleView",
      "description_width": ""
     }
    },
    "8f2fad863b1b458fbed9ae3048e97abf": {
     "model_module": "@jupyter-widgets/controls",
     "model_module_version": "1.5.0",
     "model_name": "FloatProgressModel",
     "state": {
      "_dom_classes": [],
      "_model_module": "@jupyter-widgets/controls",
      "_model_module_version": "1.5.0",
      "_model_name": "FloatProgressModel",
      "_view_count": null,
      "_view_module": "@jupyter-widgets/controls",
      "_view_module_version": "1.5.0",
      "_view_name": "ProgressView",
      "bar_style": "success",
      "description": "",
      "description_tooltip": null,
      "layout": "IPY_MODEL_b1d47c5fa5934905aea9700fa8328f66",
      "max": 1206,
      "min": 0,
      "orientation": "horizontal",
      "style": "IPY_MODEL_fc1a669a80114c919e7d38f9b8afbc51",
      "value": 1206
     }
    },
    "b1d47c5fa5934905aea9700fa8328f66": {
     "model_module": "@jupyter-widgets/base",
     "model_module_version": "1.2.0",
     "model_name": "LayoutModel",
     "state": {
      "_model_module": "@jupyter-widgets/base",
      "_model_module_version": "1.2.0",
      "_model_name": "LayoutModel",
      "_view_count": null,
      "_view_module": "@jupyter-widgets/base",
      "_view_module_version": "1.2.0",
      "_view_name": "LayoutView",
      "align_content": null,
      "align_items": null,
      "align_self": null,
      "border": null,
      "bottom": null,
      "display": null,
      "flex": null,
      "flex_flow": null,
      "grid_area": null,
      "grid_auto_columns": null,
      "grid_auto_flow": null,
      "grid_auto_rows": null,
      "grid_column": null,
      "grid_gap": null,
      "grid_row": null,
      "grid_template_areas": null,
      "grid_template_columns": null,
      "grid_template_rows": null,
      "height": null,
      "justify_content": null,
      "justify_items": null,
      "left": null,
      "margin": null,
      "max_height": null,
      "max_width": null,
      "min_height": null,
      "min_width": null,
      "object_fit": null,
      "object_position": null,
      "order": null,
      "overflow": null,
      "overflow_x": null,
      "overflow_y": null,
      "padding": null,
      "right": null,
      "top": null,
      "visibility": null,
      "width": null
     }
    },
    "b3a278e5ee014417b849295f2fcdf16e": {
     "model_module": "@jupyter-widgets/controls",
     "model_module_version": "1.5.0",
     "model_name": "HBoxModel",
     "state": {
      "_dom_classes": [],
      "_model_module": "@jupyter-widgets/controls",
      "_model_module_version": "1.5.0",
      "_model_name": "HBoxModel",
      "_view_count": null,
      "_view_module": "@jupyter-widgets/controls",
      "_view_module_version": "1.5.0",
      "_view_name": "HBoxView",
      "box_style": "",
      "children": [
       "IPY_MODEL_fefcf9ed02fb4ff3bc843475ed882bb3",
       "IPY_MODEL_4dfb3e5f704146cbae8d11aa402ac41d",
       "IPY_MODEL_b6ec6e8d1bed4b1b8db50de6a1e6ec3d"
      ],
      "layout": "IPY_MODEL_562b5ff023b3424c9587eff6183f02fb"
     }
    },
    "b6ec6e8d1bed4b1b8db50de6a1e6ec3d": {
     "model_module": "@jupyter-widgets/controls",
     "model_module_version": "1.5.0",
     "model_name": "HTMLModel",
     "state": {
      "_dom_classes": [],
      "_model_module": "@jupyter-widgets/controls",
      "_model_module_version": "1.5.0",
      "_model_name": "HTMLModel",
      "_view_count": null,
      "_view_module": "@jupyter-widgets/controls",
      "_view_module_version": "1.5.0",
      "_view_name": "HTMLView",
      "description": "",
      "description_tooltip": null,
      "layout": "IPY_MODEL_f27aab608ad342ae8c30121b294df591",
      "placeholder": "​",
      "style": "IPY_MODEL_293cc094a8b44d18a96b432a011a6862",
      "value": " 792k/792k [00:00&lt;00:00, 12.3MB/s]"
     }
    },
    "d8906fccbb474195aa73780b1739b55e": {
     "model_module": "@jupyter-widgets/controls",
     "model_module_version": "1.5.0",
     "model_name": "DescriptionStyleModel",
     "state": {
      "_model_module": "@jupyter-widgets/controls",
      "_model_module_version": "1.5.0",
      "_model_name": "DescriptionStyleModel",
      "_view_count": null,
      "_view_module": "@jupyter-widgets/base",
      "_view_module_version": "1.2.0",
      "_view_name": "StyleView",
      "description_width": ""
     }
    },
    "e2f4a2112ef94a08a5d338f47593d225": {
     "model_module": "@jupyter-widgets/base",
     "model_module_version": "1.2.0",
     "model_name": "LayoutModel",
     "state": {
      "_model_module": "@jupyter-widgets/base",
      "_model_module_version": "1.2.0",
      "_model_name": "LayoutModel",
      "_view_count": null,
      "_view_module": "@jupyter-widgets/base",
      "_view_module_version": "1.2.0",
      "_view_name": "LayoutView",
      "align_content": null,
      "align_items": null,
      "align_self": null,
      "border": null,
      "bottom": null,
      "display": null,
      "flex": null,
      "flex_flow": null,
      "grid_area": null,
      "grid_auto_columns": null,
      "grid_auto_flow": null,
      "grid_auto_rows": null,
      "grid_column": null,
      "grid_gap": null,
      "grid_row": null,
      "grid_template_areas": null,
      "grid_template_columns": null,
      "grid_template_rows": null,
      "height": null,
      "justify_content": null,
      "justify_items": null,
      "left": null,
      "margin": null,
      "max_height": null,
      "max_width": null,
      "min_height": null,
      "min_width": null,
      "object_fit": null,
      "object_position": null,
      "order": null,
      "overflow": null,
      "overflow_x": null,
      "overflow_y": null,
      "padding": null,
      "right": null,
      "top": null,
      "visibility": null,
      "width": null
     }
    },
    "e795d78bde254bd3859e161dfbc773a3": {
     "model_module": "@jupyter-widgets/base",
     "model_module_version": "1.2.0",
     "model_name": "LayoutModel",
     "state": {
      "_model_module": "@jupyter-widgets/base",
      "_model_module_version": "1.2.0",
      "_model_name": "LayoutModel",
      "_view_count": null,
      "_view_module": "@jupyter-widgets/base",
      "_view_module_version": "1.2.0",
      "_view_name": "LayoutView",
      "align_content": null,
      "align_items": null,
      "align_self": null,
      "border": null,
      "bottom": null,
      "display": null,
      "flex": null,
      "flex_flow": null,
      "grid_area": null,
      "grid_auto_columns": null,
      "grid_auto_flow": null,
      "grid_auto_rows": null,
      "grid_column": null,
      "grid_gap": null,
      "grid_row": null,
      "grid_template_areas": null,
      "grid_template_columns": null,
      "grid_template_rows": null,
      "height": null,
      "justify_content": null,
      "justify_items": null,
      "left": null,
      "margin": null,
      "max_height": null,
      "max_width": null,
      "min_height": null,
      "min_width": null,
      "object_fit": null,
      "object_position": null,
      "order": null,
      "overflow": null,
      "overflow_x": null,
      "overflow_y": null,
      "padding": null,
      "right": null,
      "top": null,
      "visibility": null,
      "width": null
     }
    },
    "eaad4af7e83e4640b75be2f310c0d482": {
     "model_module": "@jupyter-widgets/controls",
     "model_module_version": "1.5.0",
     "model_name": "HTMLModel",
     "state": {
      "_dom_classes": [],
      "_model_module": "@jupyter-widgets/controls",
      "_model_module_version": "1.5.0",
      "_model_name": "HTMLModel",
      "_view_count": null,
      "_view_module": "@jupyter-widgets/controls",
      "_view_module_version": "1.5.0",
      "_view_name": "HTMLView",
      "description": "",
      "description_tooltip": null,
      "layout": "IPY_MODEL_e795d78bde254bd3859e161dfbc773a3",
      "placeholder": "​",
      "style": "IPY_MODEL_d8906fccbb474195aa73780b1739b55e",
      "value": "Downloading (…)lve/main/config.json: 100%"
     }
    },
    "f27aab608ad342ae8c30121b294df591": {
     "model_module": "@jupyter-widgets/base",
     "model_module_version": "1.2.0",
     "model_name": "LayoutModel",
     "state": {
      "_model_module": "@jupyter-widgets/base",
      "_model_module_version": "1.2.0",
      "_model_name": "LayoutModel",
      "_view_count": null,
      "_view_module": "@jupyter-widgets/base",
      "_view_module_version": "1.2.0",
      "_view_name": "LayoutView",
      "align_content": null,
      "align_items": null,
      "align_self": null,
      "border": null,
      "bottom": null,
      "display": null,
      "flex": null,
      "flex_flow": null,
      "grid_area": null,
      "grid_auto_columns": null,
      "grid_auto_flow": null,
      "grid_auto_rows": null,
      "grid_column": null,
      "grid_gap": null,
      "grid_row": null,
      "grid_template_areas": null,
      "grid_template_columns": null,
      "grid_template_rows": null,
      "height": null,
      "justify_content": null,
      "justify_items": null,
      "left": null,
      "margin": null,
      "max_height": null,
      "max_width": null,
      "min_height": null,
      "min_width": null,
      "object_fit": null,
      "object_position": null,
      "order": null,
      "overflow": null,
      "overflow_x": null,
      "overflow_y": null,
      "padding": null,
      "right": null,
      "top": null,
      "visibility": null,
      "width": null
     }
    },
    "f3c25eea91e44d8c867683300492bf94": {
     "model_module": "@jupyter-widgets/controls",
     "model_module_version": "1.5.0",
     "model_name": "ProgressStyleModel",
     "state": {
      "_model_module": "@jupyter-widgets/controls",
      "_model_module_version": "1.5.0",
      "_model_name": "ProgressStyleModel",
      "_view_count": null,
      "_view_module": "@jupyter-widgets/base",
      "_view_module_version": "1.2.0",
      "_view_name": "StyleView",
      "bar_color": null,
      "description_width": ""
     }
    },
    "f83272df0bcd40248303946f166ea403": {
     "model_module": "@jupyter-widgets/controls",
     "model_module_version": "1.5.0",
     "model_name": "HBoxModel",
     "state": {
      "_dom_classes": [],
      "_model_module": "@jupyter-widgets/controls",
      "_model_module_version": "1.5.0",
      "_model_name": "HBoxModel",
      "_view_count": null,
      "_view_module": "@jupyter-widgets/controls",
      "_view_module_version": "1.5.0",
      "_view_name": "HBoxView",
      "box_style": "",
      "children": [
       "IPY_MODEL_eaad4af7e83e4640b75be2f310c0d482",
       "IPY_MODEL_8f2fad863b1b458fbed9ae3048e97abf",
       "IPY_MODEL_17e69b70fbff4f3395807d08e5fd6a04"
      ],
      "layout": "IPY_MODEL_5eb8076771f346f19b07b4a12e29dd8a"
     }
    },
    "fc1a669a80114c919e7d38f9b8afbc51": {
     "model_module": "@jupyter-widgets/controls",
     "model_module_version": "1.5.0",
     "model_name": "ProgressStyleModel",
     "state": {
      "_model_module": "@jupyter-widgets/controls",
      "_model_module_version": "1.5.0",
      "_model_name": "ProgressStyleModel",
      "_view_count": null,
      "_view_module": "@jupyter-widgets/base",
      "_view_module_version": "1.2.0",
      "_view_name": "StyleView",
      "bar_color": null,
      "description_width": ""
     }
    },
    "fefcf9ed02fb4ff3bc843475ed882bb3": {
     "model_module": "@jupyter-widgets/controls",
     "model_module_version": "1.5.0",
     "model_name": "HTMLModel",
     "state": {
      "_dom_classes": [],
      "_model_module": "@jupyter-widgets/controls",
      "_model_module_version": "1.5.0",
      "_model_name": "HTMLModel",
      "_view_count": null,
      "_view_module": "@jupyter-widgets/controls",
      "_view_module_version": "1.5.0",
      "_view_name": "HTMLView",
      "description": "",
      "description_tooltip": null,
      "layout": "IPY_MODEL_436fb492fe5146ab9c9143fb919a80e2",
      "placeholder": "​",
      "style": "IPY_MODEL_5f328a1f5e4740b5b4e87b130c448f8f",
      "value": "Downloading (…)ve/main/spiece.model: 100%"
     }
    },
    "ff11af5cbe44452db94dbdad56023a5d": {
     "model_module": "@jupyter-widgets/base",
     "model_module_version": "1.2.0",
     "model_name": "LayoutModel",
     "state": {
      "_model_module": "@jupyter-widgets/base",
      "_model_module_version": "1.2.0",
      "_model_name": "LayoutModel",
      "_view_count": null,
      "_view_module": "@jupyter-widgets/base",
      "_view_module_version": "1.2.0",
      "_view_name": "LayoutView",
      "align_content": null,
      "align_items": null,
      "align_self": null,
      "border": null,
      "bottom": null,
      "display": null,
      "flex": null,
      "flex_flow": null,
      "grid_area": null,
      "grid_auto_columns": null,
      "grid_auto_flow": null,
      "grid_auto_rows": null,
      "grid_column": null,
      "grid_gap": null,
      "grid_row": null,
      "grid_template_areas": null,
      "grid_template_columns": null,
      "grid_template_rows": null,
      "height": null,
      "justify_content": null,
      "justify_items": null,
      "left": null,
      "margin": null,
      "max_height": null,
      "max_width": null,
      "min_height": null,
      "min_width": null,
      "object_fit": null,
      "object_position": null,
      "order": null,
      "overflow": null,
      "overflow_x": null,
      "overflow_y": null,
      "padding": null,
      "right": null,
      "top": null,
      "visibility": null,
      "width": null
     }
    }
   }
  }
 },
 "nbformat": 4,
 "nbformat_minor": 5
}
